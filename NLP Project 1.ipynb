{
 "cells": [
  {
   "cell_type": "markdown",
   "id": "6dab6cfb-fe85-4a52-a8a9-2c619a53540b",
   "metadata": {},
   "source": [
    "# Digital content management\n",
    "### Create a classifier that predicts multiple features of the author of a given text"
   ]
  },
  {
   "cell_type": "code",
   "execution_count": 1,
   "id": "2277f901-9284-4007-9e50-8864a401d68a",
   "metadata": {},
   "outputs": [],
   "source": [
    "import pandas as pd\n",
    "import matplotlib.pyplot as plt\n",
    "import seaborn as sns\n",
    "\n",
    "import nltk\n",
    "from nltk.corpus import stopwords\n",
    "\n",
    "from sklearn.model_selection import train_test_split\n",
    "from sklearn.utils import shuffle\n",
    "\n",
    "import warnings\n",
    "warnings.filterwarnings(\"ignore\")\n",
    "\n",
    "sns.set_theme()"
   ]
  },
  {
   "cell_type": "code",
   "execution_count": 2,
   "id": "e5316ddb-f329-498d-a325-62965ca32fd1",
   "metadata": {},
   "outputs": [
    {
     "data": {
      "text/html": [
       "<div>\n",
       "<style scoped>\n",
       "    .dataframe tbody tr th:only-of-type {\n",
       "        vertical-align: middle;\n",
       "    }\n",
       "\n",
       "    .dataframe tbody tr th {\n",
       "        vertical-align: top;\n",
       "    }\n",
       "\n",
       "    .dataframe thead th {\n",
       "        text-align: right;\n",
       "    }\n",
       "</style>\n",
       "<table border=\"1\" class=\"dataframe\">\n",
       "  <thead>\n",
       "    <tr style=\"text-align: right;\">\n",
       "      <th></th>\n",
       "      <th>id</th>\n",
       "      <th>gender</th>\n",
       "      <th>age</th>\n",
       "      <th>topic</th>\n",
       "      <th>sign</th>\n",
       "      <th>date</th>\n",
       "      <th>text</th>\n",
       "    </tr>\n",
       "  </thead>\n",
       "  <tbody>\n",
       "    <tr>\n",
       "      <th>364882</th>\n",
       "      <td>1912582</td>\n",
       "      <td>female</td>\n",
       "      <td>46</td>\n",
       "      <td>indUnk</td>\n",
       "      <td>Virgo</td>\n",
       "      <td>23,July,2004</td>\n",
       "      <td>urlLink    QuitNet certificate for 3 days ...</td>\n",
       "    </tr>\n",
       "    <tr>\n",
       "      <th>367684</th>\n",
       "      <td>3344979</td>\n",
       "      <td>male</td>\n",
       "      <td>36</td>\n",
       "      <td>Communications-Media</td>\n",
       "      <td>Aries</td>\n",
       "      <td>19,May,2004</td>\n",
       "      <td>urlLink    The view from lovely do...</td>\n",
       "    </tr>\n",
       "    <tr>\n",
       "      <th>337390</th>\n",
       "      <td>3970345</td>\n",
       "      <td>male</td>\n",
       "      <td>25</td>\n",
       "      <td>indUnk</td>\n",
       "      <td>Gemini</td>\n",
       "      <td>14,July,2004</td>\n",
       "      <td>I saw a row or ducks crossing a 6 lane ...</td>\n",
       "    </tr>\n",
       "    <tr>\n",
       "      <th>394923</th>\n",
       "      <td>3902696</td>\n",
       "      <td>female</td>\n",
       "      <td>25</td>\n",
       "      <td>Student</td>\n",
       "      <td>Virgo</td>\n",
       "      <td>11,July,2004</td>\n",
       "      <td>When I first knew you, I didn’t k...</td>\n",
       "    </tr>\n",
       "    <tr>\n",
       "      <th>191180</th>\n",
       "      <td>3532480</td>\n",
       "      <td>male</td>\n",
       "      <td>36</td>\n",
       "      <td>InvestmentBanking</td>\n",
       "      <td>Aquarius</td>\n",
       "      <td>09,June,2004</td>\n",
       "      <td>Today, I will try to explain why ...</td>\n",
       "    </tr>\n",
       "  </tbody>\n",
       "</table>\n",
       "</div>"
      ],
      "text/plain": [
       "             id  gender  age                 topic      sign          date  \\\n",
       "364882  1912582  female   46                indUnk     Virgo  23,July,2004   \n",
       "367684  3344979    male   36  Communications-Media     Aries   19,May,2004   \n",
       "337390  3970345    male   25                indUnk    Gemini  14,July,2004   \n",
       "394923  3902696  female   25               Student     Virgo  11,July,2004   \n",
       "191180  3532480    male   36     InvestmentBanking  Aquarius  09,June,2004   \n",
       "\n",
       "                                                     text  \n",
       "364882      urlLink    QuitNet certificate for 3 days ...  \n",
       "367684              urlLink    The view from lovely do...  \n",
       "337390         I saw a row or ducks crossing a 6 lane ...  \n",
       "394923               When I first knew you, I didn’t k...  \n",
       "191180               Today, I will try to explain why ...  "
      ]
     },
     "execution_count": 2,
     "metadata": {},
     "output_type": "execute_result"
    }
   ],
   "source": [
    "dataset = pd.read_csv('Dataset - blogtext.csv')\n",
    "dataset.sample(5)"
   ]
  },
  {
   "cell_type": "code",
   "execution_count": 3,
   "id": "390b5fdc-4fff-4d18-bb1e-5807fb50130d",
   "metadata": {},
   "outputs": [
    {
     "data": {
      "text/plain": [
       "(681284, 7)"
      ]
     },
     "execution_count": 3,
     "metadata": {},
     "output_type": "execute_result"
    }
   ],
   "source": [
    "dataset.shape"
   ]
  },
  {
   "cell_type": "markdown",
   "id": "e82fcb3e-ac5d-4c08-b225-f20051b5ee4f",
   "metadata": {},
   "source": [
    "#### Observations:\n",
    "1. There are 7 columns present in the dataset.\n",
    "2. 'gender', 'age', 'topic' and 'sign' are the target columns.\n",
    "3. 'id' and 'date' are not relevant hence will be dropping these columns."
   ]
  },
  {
   "cell_type": "code",
   "execution_count": 4,
   "id": "89f2fd2e-eec0-4f42-adb3-6407f4cbfdf2",
   "metadata": {},
   "outputs": [],
   "source": [
    "dataset.drop(['id', 'date'], axis=1, inplace=True)"
   ]
  },
  {
   "cell_type": "code",
   "execution_count": 5,
   "id": "d8f12f81-0bba-467c-873e-c69d0cb5e5b7",
   "metadata": {},
   "outputs": [
    {
     "name": "stdout",
     "output_type": "stream",
     "text": [
      "<class 'pandas.core.frame.DataFrame'>\n",
      "RangeIndex: 681284 entries, 0 to 681283\n",
      "Data columns (total 5 columns):\n",
      " #   Column  Non-Null Count   Dtype \n",
      "---  ------  --------------   ----- \n",
      " 0   gender  681284 non-null  object\n",
      " 1   age     681284 non-null  int64 \n",
      " 2   topic   681284 non-null  object\n",
      " 3   sign    681284 non-null  object\n",
      " 4   text    681284 non-null  object\n",
      "dtypes: int64(1), object(4)\n",
      "memory usage: 26.0+ MB\n"
     ]
    }
   ],
   "source": [
    "dataset.info()"
   ]
  },
  {
   "cell_type": "code",
   "execution_count": 6,
   "id": "b06159aa-6cbf-43fa-aaf8-3aa7542a3466",
   "metadata": {},
   "outputs": [
    {
     "data": {
      "text/html": [
       "<div>\n",
       "<style scoped>\n",
       "    .dataframe tbody tr th:only-of-type {\n",
       "        vertical-align: middle;\n",
       "    }\n",
       "\n",
       "    .dataframe tbody tr th {\n",
       "        vertical-align: top;\n",
       "    }\n",
       "\n",
       "    .dataframe thead th {\n",
       "        text-align: right;\n",
       "    }\n",
       "</style>\n",
       "<table border=\"1\" class=\"dataframe\">\n",
       "  <thead>\n",
       "    <tr style=\"text-align: right;\">\n",
       "      <th></th>\n",
       "      <th>count</th>\n",
       "      <th>unique</th>\n",
       "      <th>top</th>\n",
       "      <th>freq</th>\n",
       "      <th>mean</th>\n",
       "      <th>std</th>\n",
       "      <th>min</th>\n",
       "      <th>25%</th>\n",
       "      <th>50%</th>\n",
       "      <th>75%</th>\n",
       "      <th>max</th>\n",
       "    </tr>\n",
       "  </thead>\n",
       "  <tbody>\n",
       "    <tr>\n",
       "      <th>gender</th>\n",
       "      <td>681284</td>\n",
       "      <td>2</td>\n",
       "      <td>male</td>\n",
       "      <td>345193</td>\n",
       "      <td>NaN</td>\n",
       "      <td>NaN</td>\n",
       "      <td>NaN</td>\n",
       "      <td>NaN</td>\n",
       "      <td>NaN</td>\n",
       "      <td>NaN</td>\n",
       "      <td>NaN</td>\n",
       "    </tr>\n",
       "    <tr>\n",
       "      <th>age</th>\n",
       "      <td>681284.0</td>\n",
       "      <td>NaN</td>\n",
       "      <td>NaN</td>\n",
       "      <td>NaN</td>\n",
       "      <td>23.932326</td>\n",
       "      <td>7.786009</td>\n",
       "      <td>13.0</td>\n",
       "      <td>17.0</td>\n",
       "      <td>24.0</td>\n",
       "      <td>26.0</td>\n",
       "      <td>48.0</td>\n",
       "    </tr>\n",
       "    <tr>\n",
       "      <th>topic</th>\n",
       "      <td>681284</td>\n",
       "      <td>40</td>\n",
       "      <td>indUnk</td>\n",
       "      <td>251015</td>\n",
       "      <td>NaN</td>\n",
       "      <td>NaN</td>\n",
       "      <td>NaN</td>\n",
       "      <td>NaN</td>\n",
       "      <td>NaN</td>\n",
       "      <td>NaN</td>\n",
       "      <td>NaN</td>\n",
       "    </tr>\n",
       "    <tr>\n",
       "      <th>sign</th>\n",
       "      <td>681284</td>\n",
       "      <td>12</td>\n",
       "      <td>Cancer</td>\n",
       "      <td>65048</td>\n",
       "      <td>NaN</td>\n",
       "      <td>NaN</td>\n",
       "      <td>NaN</td>\n",
       "      <td>NaN</td>\n",
       "      <td>NaN</td>\n",
       "      <td>NaN</td>\n",
       "      <td>NaN</td>\n",
       "    </tr>\n",
       "    <tr>\n",
       "      <th>text</th>\n",
       "      <td>681284</td>\n",
       "      <td>611652</td>\n",
       "      <td>urlLink</td>\n",
       "      <td>445</td>\n",
       "      <td>NaN</td>\n",
       "      <td>NaN</td>\n",
       "      <td>NaN</td>\n",
       "      <td>NaN</td>\n",
       "      <td>NaN</td>\n",
       "      <td>NaN</td>\n",
       "      <td>NaN</td>\n",
       "    </tr>\n",
       "  </tbody>\n",
       "</table>\n",
       "</div>"
      ],
      "text/plain": [
       "           count  unique                  top    freq       mean       std  \\\n",
       "gender    681284       2                 male  345193        NaN       NaN   \n",
       "age     681284.0     NaN                  NaN     NaN  23.932326  7.786009   \n",
       "topic     681284      40               indUnk  251015        NaN       NaN   \n",
       "sign      681284      12               Cancer   65048        NaN       NaN   \n",
       "text      681284  611652           urlLink        445        NaN       NaN   \n",
       "\n",
       "         min   25%   50%   75%   max  \n",
       "gender   NaN   NaN   NaN   NaN   NaN  \n",
       "age     13.0  17.0  24.0  26.0  48.0  \n",
       "topic    NaN   NaN   NaN   NaN   NaN  \n",
       "sign     NaN   NaN   NaN   NaN   NaN  \n",
       "text     NaN   NaN   NaN   NaN   NaN  "
      ]
     },
     "execution_count": 6,
     "metadata": {},
     "output_type": "execute_result"
    }
   ],
   "source": [
    "dataset.describe(include='all').T"
   ]
  },
  {
   "cell_type": "markdown",
   "id": "f5f3ecc3-daf9-4f80-b6af-ed724777a6f1",
   "metadata": {},
   "source": [
    "### Checking for null or empty values"
   ]
  },
  {
   "cell_type": "code",
   "execution_count": 7,
   "id": "ab2e4ab2-5f21-407e-b699-1943559b5369",
   "metadata": {},
   "outputs": [
    {
     "data": {
      "text/plain": [
       "gender    0\n",
       "age       0\n",
       "topic     0\n",
       "sign      0\n",
       "text      0\n",
       "dtype: int64"
      ]
     },
     "execution_count": 7,
     "metadata": {},
     "output_type": "execute_result"
    }
   ],
   "source": [
    "dataset.isna().sum()"
   ]
  },
  {
   "cell_type": "code",
   "execution_count": 8,
   "id": "09a80b43-f48c-4de1-bef9-8d11fee556f6",
   "metadata": {},
   "outputs": [
    {
     "data": {
      "text/plain": [
       "gender    0\n",
       "age       0\n",
       "topic     0\n",
       "sign      0\n",
       "text      0\n",
       "dtype: int64"
      ]
     },
     "execution_count": 8,
     "metadata": {},
     "output_type": "execute_result"
    }
   ],
   "source": [
    "dataset.isnull().sum()"
   ]
  },
  {
   "cell_type": "code",
   "execution_count": 9,
   "id": "1b2dc58d-d0a0-44d8-acd1-8f70110ebb9c",
   "metadata": {},
   "outputs": [
    {
     "data": {
      "text/html": [
       "<div>\n",
       "<style scoped>\n",
       "    .dataframe tbody tr th:only-of-type {\n",
       "        vertical-align: middle;\n",
       "    }\n",
       "\n",
       "    .dataframe tbody tr th {\n",
       "        vertical-align: top;\n",
       "    }\n",
       "\n",
       "    .dataframe thead th {\n",
       "        text-align: right;\n",
       "    }\n",
       "</style>\n",
       "<table border=\"1\" class=\"dataframe\">\n",
       "  <thead>\n",
       "    <tr style=\"text-align: right;\">\n",
       "      <th></th>\n",
       "      <th>gender</th>\n",
       "      <th>age</th>\n",
       "      <th>topic</th>\n",
       "      <th>sign</th>\n",
       "      <th>text</th>\n",
       "    </tr>\n",
       "  </thead>\n",
       "  <tbody>\n",
       "    <tr>\n",
       "      <th>716</th>\n",
       "      <td>male</td>\n",
       "      <td>15</td>\n",
       "      <td>Science</td>\n",
       "      <td>Libra</td>\n",
       "      <td></td>\n",
       "    </tr>\n",
       "    <tr>\n",
       "      <th>3277</th>\n",
       "      <td>male</td>\n",
       "      <td>35</td>\n",
       "      <td>Technology</td>\n",
       "      <td>Aries</td>\n",
       "      <td></td>\n",
       "    </tr>\n",
       "    <tr>\n",
       "      <th>3469</th>\n",
       "      <td>male</td>\n",
       "      <td>35</td>\n",
       "      <td>Technology</td>\n",
       "      <td>Aries</td>\n",
       "      <td></td>\n",
       "    </tr>\n",
       "    <tr>\n",
       "      <th>3578</th>\n",
       "      <td>male</td>\n",
       "      <td>35</td>\n",
       "      <td>Technology</td>\n",
       "      <td>Aries</td>\n",
       "      <td></td>\n",
       "    </tr>\n",
       "    <tr>\n",
       "      <th>3626</th>\n",
       "      <td>male</td>\n",
       "      <td>35</td>\n",
       "      <td>Technology</td>\n",
       "      <td>Aries</td>\n",
       "      <td></td>\n",
       "    </tr>\n",
       "    <tr>\n",
       "      <th>...</th>\n",
       "      <td>...</td>\n",
       "      <td>...</td>\n",
       "      <td>...</td>\n",
       "      <td>...</td>\n",
       "      <td>...</td>\n",
       "    </tr>\n",
       "    <tr>\n",
       "      <th>679961</th>\n",
       "      <td>male</td>\n",
       "      <td>23</td>\n",
       "      <td>indUnk</td>\n",
       "      <td>Cancer</td>\n",
       "      <td></td>\n",
       "    </tr>\n",
       "    <tr>\n",
       "      <th>680587</th>\n",
       "      <td>male</td>\n",
       "      <td>26</td>\n",
       "      <td>indUnk</td>\n",
       "      <td>Virgo</td>\n",
       "      <td></td>\n",
       "    </tr>\n",
       "    <tr>\n",
       "      <th>680777</th>\n",
       "      <td>female</td>\n",
       "      <td>15</td>\n",
       "      <td>indUnk</td>\n",
       "      <td>Aquarius</td>\n",
       "      <td></td>\n",
       "    </tr>\n",
       "    <tr>\n",
       "      <th>680802</th>\n",
       "      <td>female</td>\n",
       "      <td>15</td>\n",
       "      <td>indUnk</td>\n",
       "      <td>Aquarius</td>\n",
       "      <td></td>\n",
       "    </tr>\n",
       "    <tr>\n",
       "      <th>680987</th>\n",
       "      <td>male</td>\n",
       "      <td>17</td>\n",
       "      <td>Student</td>\n",
       "      <td>Taurus</td>\n",
       "      <td></td>\n",
       "    </tr>\n",
       "  </tbody>\n",
       "</table>\n",
       "<p>3119 rows × 5 columns</p>\n",
       "</div>"
      ],
      "text/plain": [
       "        gender  age       topic      sign                       text\n",
       "716       male   15     Science     Libra                           \n",
       "3277      male   35  Technology     Aries                           \n",
       "3469      male   35  Technology     Aries                           \n",
       "3578      male   35  Technology     Aries                           \n",
       "3626      male   35  Technology     Aries                           \n",
       "...        ...  ...         ...       ...                        ...\n",
       "679961    male   23      indUnk    Cancer                           \n",
       "680587    male   26      indUnk     Virgo                           \n",
       "680777  female   15      indUnk  Aquarius                           \n",
       "680802  female   15      indUnk  Aquarius                           \n",
       "680987    male   17     Student    Taurus                           \n",
       "\n",
       "[3119 rows x 5 columns]"
      ]
     },
     "execution_count": 9,
     "metadata": {},
     "output_type": "execute_result"
    }
   ],
   "source": [
    "dataset[dataset['text'].str.strip() == '']"
   ]
  },
  {
   "cell_type": "markdown",
   "id": "233560a4-7856-45eb-8702-493e81ec2a69",
   "metadata": {},
   "source": [
    "#### Observations:\n",
    "1. There are no null values present but there are empty values present in the 'text' column.\n",
    "2. We will br dropping off the records with empty values in 'text' column."
   ]
  },
  {
   "cell_type": "code",
   "execution_count": 10,
   "id": "abf5a851-7649-48d6-8094-48415bad3914",
   "metadata": {},
   "outputs": [],
   "source": [
    "dataset.drop(dataset[dataset['text'].str.strip() == ''].index, axis=0, inplace=True)"
   ]
  },
  {
   "cell_type": "code",
   "execution_count": 11,
   "id": "f06576d7-95d1-46ec-b698-156ed5790cf0",
   "metadata": {},
   "outputs": [
    {
     "data": {
      "text/plain": [
       "(678165, 5)"
      ]
     },
     "execution_count": 11,
     "metadata": {},
     "output_type": "execute_result"
    }
   ],
   "source": [
    "dataset.shape"
   ]
  },
  {
   "cell_type": "markdown",
   "id": "0551d27d-f411-47fc-8eaf-e1bdf245df16",
   "metadata": {},
   "source": [
    "### Checking for duplicate records"
   ]
  },
  {
   "cell_type": "code",
   "execution_count": 12,
   "id": "48c11647-bc51-4641-91ab-ed26b5466137",
   "metadata": {},
   "outputs": [
    {
     "data": {
      "text/plain": [
       "6379"
      ]
     },
     "execution_count": 12,
     "metadata": {},
     "output_type": "execute_result"
    }
   ],
   "source": [
    "dataset.duplicated().sum()"
   ]
  },
  {
   "cell_type": "markdown",
   "id": "2fc59f47-4c08-475c-9f4b-ffd1769cbca1",
   "metadata": {},
   "source": [
    "#### Observations:\n",
    "1. There are around 6k duplicate records. We will drop these records.\n",
    "2. Each blog is written by a single user hence we will check duplicate values based on 'text' column as well and if any duplicate records found, we will drop those records."
   ]
  },
  {
   "cell_type": "code",
   "execution_count": 13,
   "id": "26ad2061-ac41-4593-b16b-9f6312d1cc0b",
   "metadata": {},
   "outputs": [
    {
     "data": {
      "text/plain": [
       "66565"
      ]
     },
     "execution_count": 13,
     "metadata": {},
     "output_type": "execute_result"
    }
   ],
   "source": [
    "dataset.duplicated(subset='text').sum()"
   ]
  },
  {
   "cell_type": "markdown",
   "id": "1ea7915c-5b66-4dc7-90d9-d076528070b5",
   "metadata": {},
   "source": [
    "#### Observations:\n",
    "1. Based on the 'text' column, there are more 65k columns having duplicate values hence we will drop the first records to avoid the conflict for classification model."
   ]
  },
  {
   "cell_type": "code",
   "execution_count": 14,
   "id": "60cebc5e-b1e9-469d-8619-b2a04412993c",
   "metadata": {},
   "outputs": [],
   "source": [
    "dataset.drop_duplicates(subset='text', inplace=True)"
   ]
  },
  {
   "cell_type": "code",
   "execution_count": 15,
   "id": "2b37a76a-3656-4cb0-ba4e-94db2fa3d75c",
   "metadata": {},
   "outputs": [
    {
     "data": {
      "text/plain": [
       "(611600, 5)"
      ]
     },
     "execution_count": 15,
     "metadata": {},
     "output_type": "execute_result"
    }
   ],
   "source": [
    "dataset.shape"
   ]
  },
  {
   "cell_type": "markdown",
   "id": "21f4c78f-a63a-4b3c-9480-2305e5ff8015",
   "metadata": {},
   "source": [
    "### Gender Distribution"
   ]
  },
  {
   "cell_type": "code",
   "execution_count": 16,
   "id": "72db4a74-f060-4ce6-bd11-02e77f6d9d6e",
   "metadata": {},
   "outputs": [
    {
     "data": {
      "text/plain": [
       "female    307328\n",
       "male      304272\n",
       "Name: gender, dtype: int64"
      ]
     },
     "execution_count": 16,
     "metadata": {},
     "output_type": "execute_result"
    }
   ],
   "source": [
    "dataset['gender'].value_counts()"
   ]
  },
  {
   "cell_type": "code",
   "execution_count": 17,
   "id": "02e63867-a919-4eb9-97a8-159b071c0902",
   "metadata": {},
   "outputs": [
    {
     "data": {
      "image/png": "[encoded data removed]",
      "text/plain": [
       "<Figure size 1152x432 with 1 Axes>"
      ]
     },
     "metadata": {},
     "output_type": "display_data"
    }
   ],
   "source": [
    "ax = dataset['gender'].value_counts().plot(kind='pie', figsize=(16, 6), title=\"Gender\")\n",
    "plt.show()"
   ]
  },
  {
   "cell_type": "markdown",
   "id": "fbf24a35-ac9d-4158-b301-f2a6134559b9",
   "metadata": {},
   "source": [
    "### Topics Distribution"
   ]
  },
  {
   "cell_type": "code",
   "execution_count": 18,
   "id": "4d363f00-3489-4897-87af-1054c3debb6f",
   "metadata": {},
   "outputs": [
    {
     "data": {
      "image/png": "[encoded data removed]",
      "text/plain": [
       "<Figure size 1152x432 with 1 Axes>"
      ]
     },
     "metadata": {},
     "output_type": "display_data"
    }
   ],
   "source": [
    "ax = dataset['topic'].value_counts().plot(kind='bar', figsize=(16, 6), title=\"Topics\")\n",
    "ax.set_xlabel(\"Topics\")\n",
    "ax.set_ylabel(\"Frequency of Topics\")\n",
    "plt.show()"
   ]
  },
  {
   "cell_type": "code",
   "execution_count": 19,
   "id": "5d847ade-7016-4770-b5e7-ab290eb52533",
   "metadata": {},
   "outputs": [
    {
     "data": {
      "image/png": "[encoded data removed]",
      "text/plain": [
       "<Figure size 1152x432 with 1 Axes>"
      ]
     },
     "metadata": {},
     "output_type": "display_data"
    }
   ],
   "source": [
    "plt.figure(figsize=(16, 6))\n",
    "ax = sns.countplot(x='topic', data=dataset, hue='gender')\n",
    "ax.set_xlabel(\"Topics\")\n",
    "ax.set_ylabel(\"Frequency of Topics\")\n",
    "plt.xticks(rotation=90)\n",
    "plt.show()"
   ]
  },
  {
   "cell_type": "markdown",
   "id": "5392400c-64cb-47d4-b58f-f72bdb679750",
   "metadata": {},
   "source": [
    "### Age Distribution"
   ]
  },
  {
   "cell_type": "code",
   "execution_count": 20,
   "id": "b28787e6-6cd5-4b8d-8f9d-1caef632f8ba",
   "metadata": {},
   "outputs": [
    {
     "data": {
      "image/png": "[encoded data removed]",
      "text/plain": [
       "<Figure size 1152x432 with 1 Axes>"
      ]
     },
     "metadata": {},
     "output_type": "display_data"
    }
   ],
   "source": [
    "ax = dataset['age'].value_counts().plot(kind='bar', figsize=(16, 6), title=\"Age Distribution\")\n",
    "ax.set_xlabel(\"Age\")\n",
    "ax.set_ylabel(\"Frequency\")\n",
    "plt.show()"
   ]
  },
  {
   "cell_type": "code",
   "execution_count": 21,
   "id": "04977d6b-a048-4da0-b683-bafbe6070f9b",
   "metadata": {},
   "outputs": [
    {
     "data": {
      "image/png": "[encoded data removed]",
      "text/plain": [
       "<Figure size 1152x432 with 1 Axes>"
      ]
     },
     "metadata": {},
     "output_type": "display_data"
    }
   ],
   "source": [
    "plt.figure(figsize=(16, 6))\n",
    "ax = sns.countplot(x='age', data=dataset, hue='gender')\n",
    "ax.set_xlabel(\"Age\")\n",
    "ax.set_ylabel(\"Frequency\")\n",
    "plt.xticks(rotation=90)\n",
    "plt.show()"
   ]
  },
  {
   "cell_type": "markdown",
   "id": "ee96666f-7626-4f6c-95f2-148a43e6a2be",
   "metadata": {},
   "source": [
    "### Sign Distribution"
   ]
  },
  {
   "cell_type": "code",
   "execution_count": 22,
   "id": "b23505ec-ce3b-45e2-8ad8-16f3bb6884d5",
   "metadata": {},
   "outputs": [
    {
     "data": {
      "image/png": "[encoded data removed]",
      "text/plain": [
       "<Figure size 1152x432 with 1 Axes>"
      ]
     },
     "metadata": {},
     "output_type": "display_data"
    }
   ],
   "source": [
    "ax = dataset['sign'].value_counts().plot(kind='bar', figsize=(16, 6), title=\"Sign Distribution\")\n",
    "ax.set_xlabel(\"Sign\")\n",
    "ax.set_ylabel(\"Frequency\")\n",
    "plt.show()"
   ]
  },
  {
   "cell_type": "code",
   "execution_count": 23,
   "id": "ce303cf3-0b9d-412a-8c69-f1bd1684a5bf",
   "metadata": {},
   "outputs": [
    {
     "data": {
      "image/png": "[encoded data removed]",
      "text/plain": [
       "<Figure size 1152x432 with 1 Axes>"
      ]
     },
     "metadata": {},
     "output_type": "display_data"
    }
   ],
   "source": [
    "plt.figure(figsize=(16, 6))\n",
    "ax = sns.countplot(x='sign', data=dataset, hue='gender')\n",
    "ax.set_xlabel(\"sign\")\n",
    "ax.set_ylabel(\"Frequency\")\n",
    "plt.xticks(rotation=90)\n",
    "plt.show()"
   ]
  },
  {
   "cell_type": "markdown",
   "id": "d74d9f1d-96d4-47f7-8898-84cb63921c36",
   "metadata": {},
   "source": [
    "### Data Pre-processing"
   ]
  },
  {
   "cell_type": "code",
   "execution_count": 24,
   "id": "945227e7-8949-4a7f-9889-74681149e32a",
   "metadata": {},
   "outputs": [],
   "source": [
    "# Lowercase \n",
    "dataset[\"text\"] = dataset[\"text\"].astype(str)\n",
    "dataset['text'] = dataset['text'].str.lower()"
   ]
  },
  {
   "cell_type": "code",
   "execution_count": 25,
   "id": "6a96c08c-167c-46f5-a3e1-1e8bb6acca34",
   "metadata": {},
   "outputs": [],
   "source": [
    "# Removing punctuation marks\n",
    "import string\n",
    "\n",
    "PUNCT_TO_REMOVE = string.punctuation\n",
    "\n",
    "def remove_punctuation(text):\n",
    "    return text.translate(str.maketrans('', '', PUNCT_TO_REMOVE))\n",
    "\n",
    "dataset[\"text\"] = dataset[\"text\"].apply(lambda text: remove_punctuation(text))"
   ]
  },
  {
   "cell_type": "code",
   "execution_count": 26,
   "id": "badfde69-2ff7-4368-bf0a-a5d8293d6594",
   "metadata": {},
   "outputs": [
    {
     "data": {
      "text/html": [
       "<div>\n",
       "<style scoped>\n",
       "    .dataframe tbody tr th:only-of-type {\n",
       "        vertical-align: middle;\n",
       "    }\n",
       "\n",
       "    .dataframe tbody tr th {\n",
       "        vertical-align: top;\n",
       "    }\n",
       "\n",
       "    .dataframe thead th {\n",
       "        text-align: right;\n",
       "    }\n",
       "</style>\n",
       "<table border=\"1\" class=\"dataframe\">\n",
       "  <thead>\n",
       "    <tr style=\"text-align: right;\">\n",
       "      <th></th>\n",
       "      <th>gender</th>\n",
       "      <th>age</th>\n",
       "      <th>topic</th>\n",
       "      <th>sign</th>\n",
       "      <th>text</th>\n",
       "    </tr>\n",
       "  </thead>\n",
       "  <tbody>\n",
       "    <tr>\n",
       "      <th>59114</th>\n",
       "      <td>male</td>\n",
       "      <td>26</td>\n",
       "      <td>Government</td>\n",
       "      <td>Taurus</td>\n",
       "      <td>here i am a quarterly past 200 hours  t...</td>\n",
       "    </tr>\n",
       "    <tr>\n",
       "      <th>32410</th>\n",
       "      <td>male</td>\n",
       "      <td>41</td>\n",
       "      <td>Education</td>\n",
       "      <td>Gemini</td>\n",
       "      <td>a couple of thoughts  the kerry bounceb...</td>\n",
       "    </tr>\n",
       "  </tbody>\n",
       "</table>\n",
       "</div>"
      ],
      "text/plain": [
       "      gender  age       topic    sign  \\\n",
       "59114   male   26  Government  Taurus   \n",
       "32410   male   41   Education  Gemini   \n",
       "\n",
       "                                                    text  \n",
       "59114         here i am a quarterly past 200 hours  t...  \n",
       "32410         a couple of thoughts  the kerry bounceb...  "
      ]
     },
     "execution_count": 26,
     "metadata": {},
     "output_type": "execute_result"
    }
   ],
   "source": [
    "# Removing invalid characters\n",
    "dataset['text'] = dataset['text'].str.replace('[^\\w\\s]', '')\n",
    "dataset.sample(2)"
   ]
  },
  {
   "cell_type": "code",
   "execution_count": 27,
   "id": "5b31fb8c-1a05-44ed-aac9-3a41ffeec971",
   "metadata": {},
   "outputs": [],
   "source": [
    "# Removing Stopwords\n",
    "from nltk.corpus import stopwords\n",
    "\n",
    "stop_words = set(stopwords.words('english'))\n",
    "\n",
    "dataset['text'] = dataset['text'].apply(lambda x: ' '.join(item for item in x.split() if item not in stop_words))"
   ]
  },
  {
   "cell_type": "code",
   "execution_count": 28,
   "id": "20f47c57-3c22-47ca-ac6c-111ab8e0dc07",
   "metadata": {},
   "outputs": [
    {
     "data": {
      "text/html": [
       "<div>\n",
       "<style scoped>\n",
       "    .dataframe tbody tr th:only-of-type {\n",
       "        vertical-align: middle;\n",
       "    }\n",
       "\n",
       "    .dataframe tbody tr th {\n",
       "        vertical-align: top;\n",
       "    }\n",
       "\n",
       "    .dataframe thead th {\n",
       "        text-align: right;\n",
       "    }\n",
       "</style>\n",
       "<table border=\"1\" class=\"dataframe\">\n",
       "  <thead>\n",
       "    <tr style=\"text-align: right;\">\n",
       "      <th></th>\n",
       "      <th>gender</th>\n",
       "      <th>age</th>\n",
       "      <th>topic</th>\n",
       "      <th>sign</th>\n",
       "      <th>text</th>\n",
       "    </tr>\n",
       "  </thead>\n",
       "  <tbody>\n",
       "    <tr>\n",
       "      <th>372132</th>\n",
       "      <td>male</td>\n",
       "      <td>14</td>\n",
       "      <td>Student</td>\n",
       "      <td>Sagittarius</td>\n",
       "      <td>well ive come back 5day school trip france ben...</td>\n",
       "    </tr>\n",
       "    <tr>\n",
       "      <th>411145</th>\n",
       "      <td>female</td>\n",
       "      <td>16</td>\n",
       "      <td>Student</td>\n",
       "      <td>Scorpio</td>\n",
       "      <td>hes told many times hates yet always greets sm...</td>\n",
       "    </tr>\n",
       "  </tbody>\n",
       "</table>\n",
       "</div>"
      ],
      "text/plain": [
       "        gender  age    topic         sign  \\\n",
       "372132    male   14  Student  Sagittarius   \n",
       "411145  female   16  Student      Scorpio   \n",
       "\n",
       "                                                     text  \n",
       "372132  well ive come back 5day school trip france ben...  \n",
       "411145  hes told many times hates yet always greets sm...  "
      ]
     },
     "execution_count": 28,
     "metadata": {},
     "output_type": "execute_result"
    }
   ],
   "source": [
    "dataset.sample(2)"
   ]
  },
  {
   "cell_type": "code",
   "execution_count": 29,
   "id": "c2def7c5-17dc-40fe-8404-ead64d2fd3ec",
   "metadata": {},
   "outputs": [],
   "source": [
    "# Stemming Sentences\n",
    "from nltk.stem.porter import *\n",
    "stemmer = PorterStemmer()\n",
    "\n",
    "def stem_sentences(sentence):\n",
    "    tokens = sentence.split()\n",
    "    stemmed_tokens = [stemmer.stem(token) for token in tokens]\n",
    "    return ' '.join(stemmed_tokens)\n",
    "\n",
    "dataset['stemmed'] = dataset['text'].apply(stem_sentences)"
   ]
  },
  {
   "cell_type": "code",
   "execution_count": 30,
   "id": "6df29a8a-4514-4b3f-a709-ed14633f8e29",
   "metadata": {},
   "outputs": [
    {
     "data": {
      "text/html": [
       "<div>\n",
       "<style scoped>\n",
       "    .dataframe tbody tr th:only-of-type {\n",
       "        vertical-align: middle;\n",
       "    }\n",
       "\n",
       "    .dataframe tbody tr th {\n",
       "        vertical-align: top;\n",
       "    }\n",
       "\n",
       "    .dataframe thead th {\n",
       "        text-align: right;\n",
       "    }\n",
       "</style>\n",
       "<table border=\"1\" class=\"dataframe\">\n",
       "  <thead>\n",
       "    <tr style=\"text-align: right;\">\n",
       "      <th></th>\n",
       "      <th>gender</th>\n",
       "      <th>age</th>\n",
       "      <th>topic</th>\n",
       "      <th>sign</th>\n",
       "      <th>text</th>\n",
       "      <th>stemmed</th>\n",
       "    </tr>\n",
       "  </thead>\n",
       "  <tbody>\n",
       "    <tr>\n",
       "      <th>358267</th>\n",
       "      <td>female</td>\n",
       "      <td>24</td>\n",
       "      <td>indUnk</td>\n",
       "      <td>Taurus</td>\n",
       "      <td>wow bus anymore wasbeginning think stuck dream...</td>\n",
       "      <td>wow bu anymor wasbegin think stuck dream allis...</td>\n",
       "    </tr>\n",
       "    <tr>\n",
       "      <th>247093</th>\n",
       "      <td>male</td>\n",
       "      <td>24</td>\n",
       "      <td>Technology</td>\n",
       "      <td>Sagittarius</td>\n",
       "      <td>currently read article magazine online hackers...</td>\n",
       "      <td>current read articl magazin onlin hacker make ...</td>\n",
       "    </tr>\n",
       "    <tr>\n",
       "      <th>97968</th>\n",
       "      <td>female</td>\n",
       "      <td>23</td>\n",
       "      <td>Education</td>\n",
       "      <td>Scorpio</td>\n",
       "      <td>totem animal oh crane anything beautiful slend...</td>\n",
       "      <td>totem anim oh crane anyth beauti slender bodi ...</td>\n",
       "    </tr>\n",
       "    <tr>\n",
       "      <th>183120</th>\n",
       "      <td>male</td>\n",
       "      <td>24</td>\n",
       "      <td>Education</td>\n",
       "      <td>Leo</td>\n",
       "      <td>went seattle jayna present fun adventure max s...</td>\n",
       "      <td>went seattl jayna present fun adventur max sca...</td>\n",
       "    </tr>\n",
       "    <tr>\n",
       "      <th>378520</th>\n",
       "      <td>female</td>\n",
       "      <td>24</td>\n",
       "      <td>indUnk</td>\n",
       "      <td>Libra</td>\n",
       "      <td>learned school night nbsp war diplomacy means ...</td>\n",
       "      <td>learn school night nbsp war diplomaci mean obs...</td>\n",
       "    </tr>\n",
       "  </tbody>\n",
       "</table>\n",
       "</div>"
      ],
      "text/plain": [
       "        gender  age       topic         sign  \\\n",
       "358267  female   24      indUnk       Taurus   \n",
       "247093    male   24  Technology  Sagittarius   \n",
       "97968   female   23   Education      Scorpio   \n",
       "183120    male   24   Education          Leo   \n",
       "378520  female   24      indUnk        Libra   \n",
       "\n",
       "                                                     text  \\\n",
       "358267  wow bus anymore wasbeginning think stuck dream...   \n",
       "247093  currently read article magazine online hackers...   \n",
       "97968   totem animal oh crane anything beautiful slend...   \n",
       "183120  went seattle jayna present fun adventure max s...   \n",
       "378520  learned school night nbsp war diplomacy means ...   \n",
       "\n",
       "                                                  stemmed  \n",
       "358267  wow bu anymor wasbegin think stuck dream allis...  \n",
       "247093  current read articl magazin onlin hacker make ...  \n",
       "97968   totem anim oh crane anyth beauti slender bodi ...  \n",
       "183120  went seattl jayna present fun adventur max sca...  \n",
       "378520  learn school night nbsp war diplomaci mean obs...  "
      ]
     },
     "execution_count": 30,
     "metadata": {},
     "output_type": "execute_result"
    }
   ],
   "source": [
    "dataset.sample(5)"
   ]
  },
  {
   "cell_type": "markdown",
   "id": "afca3ca1-9aae-4db4-af8b-0c807be5a2d2",
   "metadata": {},
   "source": [
    "### Train test split\n",
    "\n",
    "The dataset is huge and the system keeps getting crash hence taking a sample of the dataset to fine tune the parameters of Vectorizer. Once the best parameters can be obtained, the same will be used on the whole dataset."
   ]
  },
  {
   "cell_type": "code",
   "execution_count": 31,
   "id": "14d24e20-c8dc-4461-90dc-e7a6b3a7b6a2",
   "metadata": {},
   "outputs": [],
   "source": [
    "sample_data = dataset[:20000]"
   ]
  },
  {
   "cell_type": "code",
   "execution_count": 32,
   "id": "a2005cc1-dcad-4590-ae32-99dbd544252a",
   "metadata": {},
   "outputs": [],
   "source": [
    "X = sample_data['stemmed']\n",
    "y = sample_data.apply(lambda col: [col['gender'], str(col['age']), col['topic'], col['sign']], axis=1)"
   ]
  },
  {
   "cell_type": "code",
   "execution_count": 33,
   "id": "1f9b4f1b-33b5-47ac-8aee-956a2293737c",
   "metadata": {},
   "outputs": [],
   "source": [
    "from sklearn.model_selection import train_test_split\n",
    "\n",
    "X_train, X_test, y_train, y_test = train_test_split(X, y, test_size=0.2, random_state=42)"
   ]
  },
  {
   "cell_type": "code",
   "execution_count": 34,
   "id": "8568a2a2-4292-4d0c-af2b-e575995dcab8",
   "metadata": {},
   "outputs": [
    {
     "name": "stdout",
     "output_type": "stream",
     "text": [
      "(16000,)\n",
      "(4000,)\n"
     ]
    }
   ],
   "source": [
    "print(X_train.shape)\n",
    "print(X_test.shape)"
   ]
  },
  {
   "cell_type": "markdown",
   "id": "a66af5b7-f172-40e7-9052-225ede22fde0",
   "metadata": {},
   "source": [
    "#### Observations:\n",
    "In this dataset, there are multiple labels are present. The algorithms are developed for sngle-label classifiation problems. Hence it is required to convert multiple label into the single label. For this, MultiLabelBinerazier will be used which transform the multi-label problem into multiple single-label problems, so that the existing single label algorithms can be used and marked the output columns in binary format."
   ]
  },
  {
   "cell_type": "code",
   "execution_count": 35,
   "id": "e7b7eaba-cebc-40ea-bbc8-8813983ff9a2",
   "metadata": {},
   "outputs": [],
   "source": [
    "label_counts = dict()\n",
    "\n",
    "for labels in y.values:\n",
    "    for label in labels:\n",
    "        if label in label_counts:\n",
    "            label_counts[label] += 1\n",
    "        else:\n",
    "            label_counts[label] = 1"
   ]
  },
  {
   "cell_type": "code",
   "execution_count": 36,
   "id": "675dae27-c983-4085-a7fb-c4d6068d8311",
   "metadata": {},
   "outputs": [],
   "source": [
    "from sklearn.preprocessing import MultiLabelBinarizer\n",
    "binarizer = MultiLabelBinarizer(classes=sorted(label_counts.keys()))"
   ]
  },
  {
   "cell_type": "code",
   "execution_count": 37,
   "id": "8a709457-6798-4e41-8b1e-c28a4c823b69",
   "metadata": {},
   "outputs": [],
   "source": [
    "y_train_binary = binarizer.fit_transform(y_train)\n",
    "y_test_binary = binarizer.transform(y_test)"
   ]
  },
  {
   "cell_type": "code",
   "execution_count": 38,
   "id": "00e34c73-8c86-4d87-a8ca-a33962f558ae",
   "metadata": {},
   "outputs": [],
   "source": [
    "from sklearn.pipeline import Pipeline\n",
    "from sklearn.feature_extraction.text import CountVectorizer, TfidfTransformer\n",
    "\n",
    "from sklearn.linear_model import LogisticRegression\n",
    "from sklearn.multiclass import OneVsRestClassifier\n",
    "\n",
    "from sklearn.model_selection import GridSearchCV\n",
    "from sklearn.metrics import accuracy_score, precision_score, recall_score, f1_score"
   ]
  },
  {
   "cell_type": "code",
   "execution_count": 39,
   "id": "cb0ff661-1244-43b8-b187-ed7d2610e6f4",
   "metadata": {},
   "outputs": [
    {
     "name": "stdout",
     "output_type": "stream",
     "text": [
      "Fitting 3 folds for each of 24 candidates, totalling 72 fits\n"
     ]
    },
    {
     "data": {
      "text/plain": [
       "GridSearchCV(cv=3,\n",
       "             estimator=Pipeline(steps=[('vect', CountVectorizer()),\n",
       "                                       ('tfidf', TfidfTransformer()),\n",
       "                                       ('clf',\n",
       "                                        OneVsRestClassifier(estimator=LogisticRegression()))]),\n",
       "             n_jobs=-1,\n",
       "             param_grid={'vect__max_df': (0.5, 0.75, 1.0),\n",
       "                         'vect__max_features': (None, 5000, 10000, 50000),\n",
       "                         'vect__ngram_range': ((1, 1), (1, 2))},\n",
       "             verbose=1)"
      ]
     },
     "execution_count": 39,
     "metadata": {},
     "output_type": "execute_result"
    }
   ],
   "source": [
    "#Optimizing parameters on baseline model\n",
    "pipeline = Pipeline([\n",
    "    ('vect', CountVectorizer()),\n",
    "    ('tfidf', TfidfTransformer()),\n",
    "    ('clf', OneVsRestClassifier(LogisticRegression())),\n",
    "])\n",
    "\n",
    "parameters = {\n",
    "    'vect__max_df': (0.5, 0.75, 1.0),\n",
    "    'vect__max_features': (None, 5000, 10000, 50000),\n",
    "    'vect__ngram_range': ((1, 1), (1, 2))\n",
    "}\n",
    "\n",
    "grid_search = GridSearchCV(estimator=pipeline, param_grid=parameters, n_jobs=-1, verbose=1, cv=3)\n",
    "grid_search.fit(X_train, y_train_binary)"
   ]
  },
  {
   "cell_type": "code",
   "execution_count": 40,
   "id": "10ff933c-e3a8-4bdd-8302-09e0d12889f2",
   "metadata": {},
   "outputs": [
    {
     "name": "stdout",
     "output_type": "stream",
     "text": [
      "Best Params: {'vect__max_df': 0.5, 'vect__max_features': 5000, 'vect__ngram_range': (1, 2)}\n",
      "Best Score: 0.06281260595285143\n"
     ]
    }
   ],
   "source": [
    "print('Best Params:', grid_search.best_params_)\n",
    "print('Best Score:', grid_search.best_score_)"
   ]
  },
  {
   "cell_type": "code",
   "execution_count": 87,
   "id": "39283fb7-4f6f-47a6-a27c-aa227ff6f441",
   "metadata": {},
   "outputs": [],
   "source": [
    "vectorizer = CountVectorizer(ngram_range=(1, 2), max_df=0.5, max_features=5000)\n",
    "transformer = TfidfTransformer()\n",
    "\n",
    "X_train_dtm = vectorizer.fit_transform(X_train)\n",
    "X_train_dtm = transformer.fit_transform(X_train_dtm)\n",
    "\n",
    "X_test_dtm = vectorizer.transform(X_test)\n",
    "X_test_dtm = transformer.transform(X_test_dtm)"
   ]
  },
  {
   "cell_type": "code",
   "execution_count": 42,
   "id": "061009de-78bb-4496-ba6b-5f4f1da79276",
   "metadata": {},
   "outputs": [
    {
     "name": "stdout",
     "output_type": "stream",
     "text": [
      "Sample Training Dataset: (16000, 5000)\n",
      "Sample Testing Dataset: (4000, 5000)\n"
     ]
    }
   ],
   "source": [
    "print('Sample Training Dataset:', X_train_dtm.shape)\n",
    "print('Sample Testing Dataset:', X_test_dtm.shape)"
   ]
  },
  {
   "cell_type": "code",
   "execution_count": 43,
   "id": "33bc4c6d-9d42-4379-9b78-ee15460ea77b",
   "metadata": {},
   "outputs": [],
   "source": [
    "from sklearn.linear_model import LogisticRegression, SGDClassifier\n",
    "from sklearn.neighbors import KNeighborsClassifier\n",
    "from sklearn.tree import DecisionTreeClassifier\n",
    "from sklearn.ensemble import RandomForestClassifier\n",
    "from sklearn.naive_bayes import MultinomialNB\n",
    "from xgboost import XGBClassifier\n",
    "\n",
    "from sklearn.model_selection import cross_val_predict\n",
    "\n",
    "from sklearn.metrics import accuracy_score, precision_score, recall_score, f1_score"
   ]
  },
  {
   "cell_type": "code",
   "execution_count": 57,
   "id": "a7d0446f-26ba-4257-a707-f0caf4df1e8f",
   "metadata": {},
   "outputs": [],
   "source": [
    "def find_best_model(X_train, y_train, X_test, y_test):\n",
    "    models = []\n",
    "\n",
    "    models.append(('LR', LogisticRegression()))\n",
    "    models.append(('SGD', SGDClassifier()))\n",
    "    models.append(('KNN', KNeighborsClassifier(n_neighbors=11)))\n",
    "    models.append(('DT', DecisionTreeClassifier()))\n",
    "    models.append(('RF', RandomForestClassifier()))\n",
    "    models.append(('NB', MultinomialNB()))\n",
    "    models.append(('XGB', XGBClassifier(eval_metric='auc')))\n",
    "\n",
    "    accuracy_scores = list()\n",
    "    precision_scores = list()\n",
    "    recall_scores = list()\n",
    "    f1_scores = list()\n",
    "    names = list()\n",
    "\n",
    "    for name, model in models:\n",
    "        classifier = OneVsRestClassifier(model)\n",
    "        classifier.fit(X_train, y_train)\n",
    "        predicted = classifier.predict(X_test)\n",
    "        \n",
    "        accuracy = accuracy_score(y_test, predicted)\n",
    "        precision = precision_score(y_test, predicted, average='micro')\n",
    "        recall = recall_score(y_test, predicted, average='micro')\n",
    "        f1 = f1_score(y_test, predicted, average='micro')\n",
    "        \n",
    "        accuracy_scores.append(accuracy)\n",
    "        precision_scores.append(precision)\n",
    "        recall_scores.append(recall)\n",
    "        f1_scores.append(f1)\n",
    "        \n",
    "        names.append(name)\n",
    "        msg = \"%s : %f (%f, %f, %f)\" % (name, accuracy, precision, recall, f1)\n",
    "        print(msg)\n",
    "        \n",
    "    return names, accuracy_scores, precision_scores, recall_scores, f1_scores "
   ]
  },
  {
   "cell_type": "code",
   "execution_count": 58,
   "id": "8316858e-9dea-42cb-86c5-f46dbc3ab0a8",
   "metadata": {},
   "outputs": [
    {
     "name": "stdout",
     "output_type": "stream",
     "text": [
      "LR : 0.082000 (0.777554, 0.313937, 0.447284)\n",
      "SGD : 0.118750 (0.792600, 0.329375, 0.465363)\n",
      "KNN : 0.013250 (0.434409, 0.170750, 0.245143)\n",
      "DT : 0.049000 (0.446845, 0.412438, 0.428952)\n",
      "RF : 0.116250 (0.766813, 0.315688, 0.447248)\n",
      "NB : 0.032500 (0.744649, 0.252250, 0.376844)\n",
      "XGB : 0.150750 (0.778073, 0.365500, 0.497363)\n"
     ]
    }
   ],
   "source": [
    "names, accuracy_scores, precision_scores, recall_scores, f1_scores = find_best_model(X_train_dtm, y_train_binary, X_test_dtm, y_test_binary)"
   ]
  },
  {
   "cell_type": "code",
   "execution_count": 60,
   "id": "6b72767c-e57d-48b5-bf4e-4563a5a73b54",
   "metadata": {},
   "outputs": [
    {
     "data": {
      "text/html": [
       "<div>\n",
       "<style scoped>\n",
       "    .dataframe tbody tr th:only-of-type {\n",
       "        vertical-align: middle;\n",
       "    }\n",
       "\n",
       "    .dataframe tbody tr th {\n",
       "        vertical-align: top;\n",
       "    }\n",
       "\n",
       "    .dataframe thead th {\n",
       "        text-align: right;\n",
       "    }\n",
       "</style>\n",
       "<table border=\"1\" class=\"dataframe\">\n",
       "  <thead>\n",
       "    <tr style=\"text-align: right;\">\n",
       "      <th></th>\n",
       "      <th>Algorithm</th>\n",
       "      <th>Accuracy</th>\n",
       "      <th>Precision</th>\n",
       "      <th>Recall</th>\n",
       "      <th>F1</th>\n",
       "    </tr>\n",
       "  </thead>\n",
       "  <tbody>\n",
       "    <tr>\n",
       "      <th>0</th>\n",
       "      <td>LR</td>\n",
       "      <td>0.08200</td>\n",
       "      <td>0.777554</td>\n",
       "      <td>0.313937</td>\n",
       "      <td>0.447284</td>\n",
       "    </tr>\n",
       "    <tr>\n",
       "      <th>1</th>\n",
       "      <td>SGD</td>\n",
       "      <td>0.11875</td>\n",
       "      <td>0.792600</td>\n",
       "      <td>0.329375</td>\n",
       "      <td>0.465363</td>\n",
       "    </tr>\n",
       "    <tr>\n",
       "      <th>2</th>\n",
       "      <td>KNN</td>\n",
       "      <td>0.01325</td>\n",
       "      <td>0.434409</td>\n",
       "      <td>0.170750</td>\n",
       "      <td>0.245143</td>\n",
       "    </tr>\n",
       "    <tr>\n",
       "      <th>3</th>\n",
       "      <td>DT</td>\n",
       "      <td>0.04900</td>\n",
       "      <td>0.446845</td>\n",
       "      <td>0.412438</td>\n",
       "      <td>0.428952</td>\n",
       "    </tr>\n",
       "    <tr>\n",
       "      <th>4</th>\n",
       "      <td>RF</td>\n",
       "      <td>0.11625</td>\n",
       "      <td>0.766813</td>\n",
       "      <td>0.315688</td>\n",
       "      <td>0.447248</td>\n",
       "    </tr>\n",
       "    <tr>\n",
       "      <th>5</th>\n",
       "      <td>NB</td>\n",
       "      <td>0.03250</td>\n",
       "      <td>0.744649</td>\n",
       "      <td>0.252250</td>\n",
       "      <td>0.376844</td>\n",
       "    </tr>\n",
       "    <tr>\n",
       "      <th>6</th>\n",
       "      <td>XGB</td>\n",
       "      <td>0.15075</td>\n",
       "      <td>0.778073</td>\n",
       "      <td>0.365500</td>\n",
       "      <td>0.497363</td>\n",
       "    </tr>\n",
       "  </tbody>\n",
       "</table>\n",
       "</div>"
      ],
      "text/plain": [
       "  Algorithm  Accuracy  Precision    Recall        F1\n",
       "0        LR   0.08200   0.777554  0.313937  0.447284\n",
       "1       SGD   0.11875   0.792600  0.329375  0.465363\n",
       "2       KNN   0.01325   0.434409  0.170750  0.245143\n",
       "3        DT   0.04900   0.446845  0.412438  0.428952\n",
       "4        RF   0.11625   0.766813  0.315688  0.447248\n",
       "5        NB   0.03250   0.744649  0.252250  0.376844\n",
       "6       XGB   0.15075   0.778073  0.365500  0.497363"
      ]
     },
     "execution_count": 60,
     "metadata": {},
     "output_type": "execute_result"
    }
   ],
   "source": [
    "results = pd.DataFrame({'Algorithm': names, 'Accuracy': accuracy_scores, 'Precision': precision_scores, 'Recall': recall_scores, 'F1': f1_scores})\n",
    "results"
   ]
  },
  {
   "cell_type": "markdown",
   "id": "dae57668-d086-4b8c-912a-952e59009878",
   "metadata": {},
   "source": [
    "#### Observations:\n",
    "1. Accuracy returns an overall measure of how much the model is correctly predicting on the entire set of data. The basic element of the metric are the single individuals in the dataset: each unit has the same weight and they contribute equally to the Accuracy value.\n",
    "2. Therefore, Accuracy is most suited when we just care about single individuals instead of multiple classes.\n",
    "3. Precision expresses the proportion of units our model says are Positive and they actually Positive. In other words, Precision tells us how much we can trust the model when it predicts an individual as Positive. While the Recall measures the model’s predictive accuracy for the positive class: intuitively, it measures the ability of the model to find all the Positive units in the dataset.\n",
    "4. Hence for this problem, we will consider the Precision metrics for evaluation.\n",
    "5. Based on the precision, SGDClassifier is performing the best and having the highest precision score.\n",
    "___"
   ]
  },
  {
   "cell_type": "code",
   "execution_count": 132,
   "id": "5a60eab8-78c3-469f-adbe-76a2466ebead",
   "metadata": {},
   "outputs": [
    {
     "name": "stdout",
     "output_type": "stream",
     "text": [
      "Accuracy: 0.11875\n",
      "Precision Score: 0.7923250564334086\n",
      "Recall Score: 0.3290625\n",
      "F1 Score: 0.4650033119894016\n"
     ]
    }
   ],
   "source": [
    "estimator = SGDClassifier()\n",
    "model = OneVsRestClassifier(estimator)\n",
    "model.fit(X_train_dtm, y_train_binary)\n",
    "predicted = model.predict(X_test_dtm)\n",
    "\n",
    "print('Accuracy:', accuracy_score(y_test_binary, predicted))\n",
    "print('Precision Score:', precision_score(y_test_binary, predicted, average='micro'))\n",
    "print('Recall Score:', recall_score(y_test_binary, predicted, average='micro'))\n",
    "print('F1 Score:', f1_score(y_test_binary, predicted, average='micro'))"
   ]
  },
  {
   "cell_type": "markdown",
   "id": "b4412600-f522-4df6-ab7e-c4027cfa4b87",
   "metadata": {},
   "source": [
    "### Tuning of SGDClassifier"
   ]
  },
  {
   "cell_type": "code",
   "execution_count": 139,
   "id": "a18b29c8-1b9a-405f-9250-c5f05e9a8a06",
   "metadata": {},
   "outputs": [
    {
     "name": "stdout",
     "output_type": "stream",
     "text": [
      "Fitting 3 folds for each of 24 candidates, totalling 72 fits\n"
     ]
    },
    {
     "data": {
      "text/plain": [
       "GridSearchCV(cv=3, estimator=OneVsRestClassifier(estimator=SGDClassifier()),\n",
       "             n_jobs=-1,\n",
       "             param_grid={'estimator__alpha': [0.0001, 0.001, 0.01, 0.1, 1.0,\n",
       "                                              10.0, 100.0, 1000.0],\n",
       "                         'estimator__loss': ['hinge', 'squared_hinge',\n",
       "                                             'modified_huber'],\n",
       "                         'estimator__n_jobs': [-1]},\n",
       "             verbose=1)"
      ]
     },
     "execution_count": 139,
     "metadata": {},
     "output_type": "execute_result"
    }
   ],
   "source": [
    "from sklearn.model_selection import GridSearchCV\n",
    "\n",
    "classifier = OneVsRestClassifier(SGDClassifier(loss='hinge'))\n",
    "\n",
    "parameters = {\n",
    "    'estimator__alpha': [1e-4, 1e-3, 1e-2, 1e-1, 1e0, 1e1, 1e2, 1e3],\n",
    "    'estimator__loss': ['hinge', 'squared_hinge', 'modified_huber'],\n",
    "    'estimator__n_jobs': [-1]\n",
    "}\n",
    "\n",
    "grid_search = GridSearchCV(estimator=classifier, param_grid=parameters, n_jobs=-1, verbose=1, cv=3)\n",
    "grid_search.fit(X_train_dtm, y_train_binary)"
   ]
  },
  {
   "cell_type": "code",
   "execution_count": 141,
   "id": "7013eb60-ea98-44e0-b113-c8c04a47d18a",
   "metadata": {},
   "outputs": [
    {
     "name": "stdout",
     "output_type": "stream",
     "text": [
      "{'estimator__alpha': 0.0001, 'estimator__loss': 'modified_huber', 'estimator__n_jobs': -1}\n",
      "0.1446252276781547\n"
     ]
    }
   ],
   "source": [
    "print(grid_search.best_params_)\n",
    "print(grid_search.best_score_)"
   ]
  },
  {
   "cell_type": "code",
   "execution_count": 142,
   "id": "ea1ef9e0-ba0c-4aef-917d-59049c8ae77a",
   "metadata": {},
   "outputs": [
    {
     "name": "stdout",
     "output_type": "stream",
     "text": [
      "Accuracy: 0.1645\n",
      "Precision Score: 0.7393009186645754\n",
      "Recall Score: 0.4124375\n",
      "F1 Score: 0.5294872823557731\n"
     ]
    }
   ],
   "source": [
    "estimator = SGDClassifier(loss='modified_huber', alpha=0.0001)\n",
    "model = OneVsRestClassifier(estimator)\n",
    "model.fit(X_train_dtm, y_train_binary)\n",
    "predicted = model.predict(X_test_dtm)\n",
    "\n",
    "print('Accuracy:', accuracy_score(y_test_binary, predicted))\n",
    "print('Precision Score:', precision_score(y_test_binary, predicted, average='micro'))\n",
    "print('Recall Score:', recall_score(y_test_binary, predicted, average='micro'))\n",
    "print('F1 Score:', f1_score(y_test_binary, predicted, average='micro'))"
   ]
  },
  {
   "cell_type": "code",
   "execution_count": 146,
   "id": "74dbe414-f976-4cab-b2bd-d1f2d73edfb3",
   "metadata": {},
   "outputs": [
    {
     "name": "stdout",
     "output_type": "stream",
     "text": [
      "              precision    recall  f1-score   support\n",
      "\n",
      "           0       0.50      0.08      0.14        24\n",
      "           1       0.80      0.30      0.43       145\n",
      "           2       0.65      0.18      0.28       210\n",
      "           3       0.84      0.19      0.31       271\n",
      "           4       0.64      0.23      0.34       403\n",
      "           5       0.68      0.19      0.29       381\n",
      "           6       0.84      0.31      0.45       306\n",
      "           7       0.74      0.10      0.18       220\n",
      "           8       0.76      0.11      0.19       202\n",
      "           9       0.70      0.33      0.45       459\n",
      "          10       0.83      0.19      0.31       158\n",
      "          11       0.97      0.54      0.70       178\n",
      "          12       0.73      0.35      0.48       508\n",
      "          13       0.95      0.49      0.65       349\n",
      "          14       1.00      0.14      0.25        21\n",
      "          15       0.00      0.00      0.00        22\n",
      "          16       0.00      0.00      0.00        21\n",
      "          17       0.00      0.00      0.00         1\n",
      "          18       1.00      0.04      0.08        23\n",
      "          19       0.00      0.00      0.00         7\n",
      "          20       0.00      0.00      0.00         0\n",
      "          21       0.00      0.00      0.00         2\n",
      "          22       0.00      0.00      0.00        17\n",
      "          23       1.00      0.13      0.23        38\n",
      "          24       0.00      0.00      0.00         1\n",
      "          25       1.00      0.12      0.22        33\n",
      "          26       0.00      0.00      0.00        13\n",
      "          27       1.00      0.56      0.71         9\n",
      "          28       0.00      0.00      0.00         6\n",
      "          29       0.83      0.26      0.39       246\n",
      "          30       0.00      0.00      0.00         9\n",
      "          31       0.76      0.51      0.61      1050\n",
      "          32       0.92      0.15      0.25        82\n",
      "          33       1.00      0.36      0.53        22\n",
      "          34       0.00      0.00      0.00        20\n",
      "          35       1.00      0.27      0.43        11\n",
      "          36       1.00      0.15      0.26        27\n",
      "          37       0.68      0.13      0.21       314\n",
      "          38       0.79      0.16      0.26       165\n",
      "          39       0.36      0.26      0.30        66\n",
      "          40       0.00      0.00      0.00         6\n",
      "          41       0.00      0.00      0.00        35\n",
      "          42       0.87      0.23      0.37       146\n",
      "          43       0.67      0.03      0.06        68\n",
      "          44       0.94      0.49      0.65       332\n",
      "          45       0.88      0.09      0.17       160\n",
      "          46       0.00      0.00      0.00        35\n",
      "          47       0.00      0.00      0.00         2\n",
      "          48       0.68      0.10      0.18       162\n",
      "          49       0.83      0.31      0.45        16\n",
      "          50       1.00      0.12      0.22         8\n",
      "          51       0.00      0.00      0.00        14\n",
      "          52       0.62      0.11      0.19       371\n",
      "          53       0.76      0.08      0.15       197\n",
      "          54       1.00      0.13      0.24        15\n",
      "          55       1.00      0.47      0.64        36\n",
      "          56       0.00      0.00      0.00         1\n",
      "          57       1.00      0.18      0.31        11\n",
      "          58       0.75      0.11      0.19        27\n",
      "          59       0.87      0.32      0.46       346\n",
      "          60       1.00      0.06      0.11        17\n",
      "          61       0.00      0.00      0.00         2\n",
      "          62       1.00      0.10      0.18        40\n",
      "          63       0.82      0.31      0.45       410\n",
      "          64       1.00      0.09      0.17        22\n",
      "          65       0.69      0.13      0.22       322\n",
      "          66       1.00      0.19      0.32        16\n",
      "          67       0.63      0.24      0.35       549\n",
      "          68       0.48      0.13      0.20       255\n",
      "          69       0.70      0.40      0.51       620\n",
      "          70       0.00      0.00      0.00         0\n",
      "          71       0.00      0.00      0.00        12\n",
      "          72       0.94      0.09      0.17       164\n",
      "          73       0.71      0.67      0.69      1712\n",
      "          74       0.66      0.53      0.59      1543\n",
      "          75       0.76      0.79      0.78      2288\n",
      "\n",
      "   micro avg       0.74      0.41      0.53     16000\n",
      "   macro avg       0.60      0.18      0.25     16000\n",
      "weighted avg       0.73      0.41      0.49     16000\n",
      " samples avg       0.69      0.41      0.49     16000\n",
      "\n"
     ]
    }
   ],
   "source": [
    "from sklearn.metrics import classification_report\n",
    "print(classification_report(y_test_binary, predicted))"
   ]
  },
  {
   "cell_type": "markdown",
   "id": "451dabd1-1775-40fd-8108-014081d82977",
   "metadata": {},
   "source": [
    "#### Observations:\n",
    "1. The dataset is highly imbalanced. As we can see, the support value in the test dataset for few classes are 0 and while the remaining having very high support values.\n",
    "2. The precision score for lot of calsses are decent but for few we can observe that its less.\n",
    "3. Similarly, the recall score where the support is high, the recall score is as well high but the classes where support is low, the recall is low as well.\n",
    "4. Weighted F1 score is 49% which is calculated for each class. Overall the model may perform good in production environment. \n",
    "5. We will try training the model on the full dataset with the optimized parameters and evaluate the model. "
   ]
  },
  {
   "cell_type": "markdown",
   "id": "2d4ac4a1-97b1-439b-86fe-064c8a83dc44",
   "metadata": {},
   "source": [
    "### Top 10 Entries for the actual and predicted "
   ]
  },
  {
   "cell_type": "code",
   "execution_count": 150,
   "id": "2c1bf651-6e5a-48ef-8830-9547993854fb",
   "metadata": {},
   "outputs": [
    {
     "name": "stdout",
     "output_type": "stream",
     "text": [
      "Actual: ('23', 'Arts', 'Capricorn', 'female')\n",
      "Predicted: ('23', 'Arts', 'Capricorn', 'female') \n",
      "\n",
      "Actual: ('35', 'Aries', 'Technology', 'male')\n",
      "Predicted: ('male',) \n",
      "\n",
      "Actual: ('27', 'Pisces', 'Technology', 'male')\n",
      "Predicted: ('male',) \n",
      "\n",
      "Actual: ('15', 'Libra', 'Student', 'female')\n",
      "Predicted: ('15', 'Student', 'female') \n",
      "\n",
      "Actual: ('23', 'Pisces', 'indUnk', 'male')\n",
      "Predicted: ('indUnk', 'male') \n",
      "\n",
      "Actual: ('24', 'Aries', 'female', 'indUnk')\n",
      "Predicted: ('24', 'Aries', 'female', 'indUnk') \n",
      "\n",
      "Actual: ('17', 'Cancer', 'Student', 'male')\n",
      "Predicted: ('male',) \n",
      "\n",
      "Actual: ('35', 'Aries', 'Technology', 'male')\n",
      "Predicted: ('female',) \n",
      "\n",
      "Actual: ('17', 'BusinessServices', 'Scorpio', 'female')\n",
      "Predicted: ('17', 'BusinessServices', 'Scorpio', 'female') \n",
      "\n",
      "Actual: ('23', 'Sagittarius', 'Technology', 'male')\n",
      "Predicted: ('Technology', 'male') \n",
      "\n"
     ]
    }
   ],
   "source": [
    "for i in range(10):\n",
    "    print('Actual:', binarizer.inverse_transform(y_test_binary)[i])\n",
    "    print('Predicted:', binarizer.inverse_transform(predicted)[i], '\\n')"
   ]
  },
  {
   "cell_type": "markdown",
   "id": "b62741ec-442f-4229-ae82-fd1cd7271cc0",
   "metadata": {},
   "source": [
    "### Training on the full dataset"
   ]
  },
  {
   "cell_type": "code",
   "execution_count": 151,
   "id": "82755ad4-ec2e-4905-84a3-ec97ca233b99",
   "metadata": {},
   "outputs": [
    {
     "name": "stdout",
     "output_type": "stream",
     "text": [
      "The shape of the dataset: (611600, 6)\n"
     ]
    }
   ],
   "source": [
    "print('The shape of the dataset:', dataset.shape)"
   ]
  },
  {
   "cell_type": "code",
   "execution_count": 152,
   "id": "b81ed11f-6711-4eb2-b5ae-ec58dee1268a",
   "metadata": {},
   "outputs": [],
   "source": [
    "X = dataset['stemmed']\n",
    "y = dataset.apply(lambda col: [col['gender'], str(col['age']), col['topic'], col['sign']], axis=1)"
   ]
  },
  {
   "cell_type": "code",
   "execution_count": 162,
   "id": "ff8296d8-8fe2-4438-aa92-688754948174",
   "metadata": {},
   "outputs": [],
   "source": [
    "from sklearn.model_selection import train_test_split\n",
    "\n",
    "X_train, X_test, y_train, y_test = train_test_split(X, y, test_size=0.3, random_state=42)"
   ]
  },
  {
   "cell_type": "code",
   "execution_count": 163,
   "id": "36421392-0a5e-4c51-bad6-5dfa4c9cf81c",
   "metadata": {},
   "outputs": [],
   "source": [
    "label_counts = dict()\n",
    "\n",
    "for labels in y.values:\n",
    "    for label in labels:\n",
    "        if label in label_counts:\n",
    "            label_counts[label] += 1\n",
    "        else:\n",
    "            label_counts[label] = 1"
   ]
  },
  {
   "cell_type": "code",
   "execution_count": 164,
   "id": "d2200c91-ae6d-4051-a35d-a7e85bd43da6",
   "metadata": {},
   "outputs": [],
   "source": [
    "binarizer = MultiLabelBinarizer(classes=sorted(label_counts.keys()))"
   ]
  },
  {
   "cell_type": "code",
   "execution_count": 165,
   "id": "a156f54d-7f18-4cae-bb9c-ab38dc3f1e47",
   "metadata": {},
   "outputs": [],
   "source": [
    "y_train_binary = binarizer.fit_transform(y_train)\n",
    "y_test_binary = binarizer.transform(y_test)"
   ]
  },
  {
   "cell_type": "code",
   "execution_count": 166,
   "id": "5e6479fc-0c97-4a40-b626-e6b27f460570",
   "metadata": {},
   "outputs": [],
   "source": [
    "vectorizer = CountVectorizer(ngram_range=(1, 2), max_df=0.5, max_features=5000)\n",
    "transformer = TfidfTransformer()\n",
    "\n",
    "X_train_dtm = vectorizer.fit_transform(X_train)\n",
    "X_train_dtm = transformer.fit_transform(X_train_dtm)\n",
    "\n",
    "X_test_dtm = vectorizer.transform(X_test)\n",
    "X_test_dtm = transformer.transform(X_test_dtm)"
   ]
  },
  {
   "cell_type": "code",
   "execution_count": 167,
   "id": "c1f39a5a-f1ef-4219-8565-33d2f30dc9e4",
   "metadata": {},
   "outputs": [
    {
     "name": "stdout",
     "output_type": "stream",
     "text": [
      "Training Dataset Shape: (428120, 5000)\n",
      "Testing Dataset Shape: (183480, 5000)\n"
     ]
    }
   ],
   "source": [
    "print('Training Dataset Shape:', X_train_dtm.shape)\n",
    "print('Testing Dataset Shape:', X_test_dtm.shape)"
   ]
  },
  {
   "cell_type": "code",
   "execution_count": 168,
   "id": "f1690e4e-efbd-4ea3-81b7-666fd9f47334",
   "metadata": {},
   "outputs": [
    {
     "name": "stdout",
     "output_type": "stream",
     "text": [
      "Accuracy: 0.003907782864617397\n",
      "Precision Score: 0.6643577810077979\n",
      "Recall Score: 0.19119386309134512\n",
      "F1 Score: 0.2969338706827505\n"
     ]
    }
   ],
   "source": [
    "final_model = OneVsRestClassifier(SGDClassifier(loss='modified_huber', alpha=0.0001))\n",
    "\n",
    "final_model.fit(X_train_dtm, y_train_binary)\n",
    "predictions = final_model.predict(X_test_dtm)\n",
    "pred_proba = final_model.predict_proba(X_test_dtm)\n",
    "\n",
    "print('Accuracy:', accuracy_score(y_test_binary, predictions))\n",
    "print('Precision Score:', precision_score(y_test_binary, predictions, average='micro'))\n",
    "print('Recall Score:', recall_score(y_test_binary, predictions, average='micro'))\n",
    "print('F1 Score:', f1_score(y_test_binary, predictions, average='micro'))"
   ]
  },
  {
   "cell_type": "code",
   "execution_count": 181,
   "id": "b4531987-939c-4f7f-a839-a86e834364bc",
   "metadata": {},
   "outputs": [
    {
     "name": "stdout",
     "output_type": "stream",
     "text": [
      "              precision    recall  f1-score   support\n",
      "\n",
      "           0       0.00      0.00      0.00      3253\n",
      "           1       0.99      0.02      0.04      7132\n",
      "           2       0.71      0.00      0.00     11529\n",
      "           3       0.67      0.00      0.01     18115\n",
      "           4       0.75      0.01      0.03     21116\n",
      "           5       0.33      0.00      0.00     19992\n",
      "           6       1.00      0.00      0.00     21608\n",
      "           7       0.78      0.00      0.00     17825\n",
      "           8       0.00      0.00      0.00     15207\n",
      "           9       0.00      0.00      0.00     12096\n",
      "          10       0.00      0.00      0.00      5140\n",
      "          11       0.98      0.02      0.05      6375\n",
      "          12       0.00      0.00      0.00      4839\n",
      "          13       0.50      0.00      0.00      4074\n",
      "          14       1.00      0.03      0.06      2727\n",
      "          15       0.00      0.00      0.00      1967\n",
      "          16       0.00      0.00      0.00      1572\n",
      "          17       1.00      0.18      0.30      1445\n",
      "          18       0.00      0.00      0.00      1118\n",
      "          19       0.00      0.00      0.00       792\n",
      "          20       0.00      0.00      0.00      1237\n",
      "          21       0.00      0.00      0.00       555\n",
      "          22       0.00      0.00      0.00      1261\n",
      "          23       0.97      0.04      0.08       774\n",
      "          24       1.00      0.00      0.00       637\n",
      "          25       0.20      0.00      0.00      1094\n",
      "          26       0.96      0.02      0.05      1086\n",
      "          27       0.00      0.00      0.00      1333\n",
      "          28       0.00      0.00      0.00       404\n",
      "          29       0.93      0.00      0.01     13622\n",
      "          30       0.00      0.00      0.00       404\n",
      "          31       0.83      0.00      0.00     17468\n",
      "          32       1.00      0.00      0.00      7982\n",
      "          33       0.00      0.00      0.00       370\n",
      "          34       0.00      0.00      0.00       885\n",
      "          35       0.00      0.00      0.00       561\n",
      "          36       0.50      0.00      0.00      1246\n",
      "          37       0.96      0.02      0.04     18142\n",
      "          38       0.00      0.00      0.00     13751\n",
      "          39       0.00      0.00      0.00       708\n",
      "          40       1.00      0.00      0.00      5693\n",
      "          41       0.00      0.00      0.00       301\n",
      "          42       0.00      0.00      0.00      1561\n",
      "          43       0.99      0.01      0.02      8507\n",
      "          44       0.00      0.00      0.00      3174\n",
      "          45       0.00      0.00      0.00       109\n",
      "          46       0.83      0.00      0.01      1389\n",
      "          47       1.00      0.00      0.00     14057\n",
      "          48       0.00      0.00      0.00      1813\n",
      "          49       0.00      0.00      0.00       666\n",
      "          50       0.00      0.00      0.00      4544\n",
      "          51       0.00      0.00      0.00       386\n",
      "          52       0.00      0.00      0.00      2608\n",
      "          53       0.00      0.00      0.00       535\n",
      "          54       0.97      0.01      0.01     15343\n",
      "          55       0.80      0.00      0.00     15185\n",
      "          56       0.00      0.00      0.00       580\n",
      "          57       0.00      0.00      0.00        75\n",
      "          58       0.00      0.00      0.00      1311\n",
      "          59       0.00      0.00      0.00       882\n",
      "          60       0.00      0.00      0.00       579\n",
      "          61       0.00      0.00      0.00      3858\n",
      "          62       0.86      0.00      0.00     14461\n",
      "          63       0.00      0.00      0.00      2144\n",
      "          64       0.00      0.00      0.00       684\n",
      "          65       0.00      0.00      0.00      1342\n",
      "          66       1.00      0.00      0.00     13701\n",
      "          67       0.00      0.00      0.00      1975\n",
      "          68       0.00      0.00      0.00     15497\n",
      "          69       0.00      0.00      0.00       877\n",
      "          70       0.60      0.11      0.19     40935\n",
      "          71       0.98      0.01      0.02     15709\n",
      "          72       0.64      0.00      0.00     10507\n",
      "          73       0.00      0.00      0.00      1105\n",
      "          74       0.00      0.00      0.00       539\n",
      "          75       1.00      0.01      0.02       649\n",
      "          76       0.97      0.00      0.01     16544\n",
      "          77       0.68      0.68      0.68     92019\n",
      "          78       0.56      0.09      0.16     69173\n",
      "          79       0.67      0.70      0.68     91461\n",
      "\n",
      "   micro avg       0.66      0.19      0.30    733920\n",
      "   macro avg       0.37      0.03      0.03    733920\n",
      "weighted avg       0.63      0.19      0.20    733920\n",
      " samples avg       0.67      0.19      0.29    733920\n",
      "\n"
     ]
    }
   ],
   "source": [
    "print(classification_report(y_test_binary, predictions))"
   ]
  },
  {
   "cell_type": "code",
   "execution_count": 186,
   "id": "776581a5-890c-4d83-81c7-76d078a5e758",
   "metadata": {},
   "outputs": [],
   "source": [
    "def get_best_tags(clf, X, lb, n_tags=4):\n",
    "    decfun = clf.predict(X)\n",
    "    best_tags = np.argsort(decfun)[:, :-(n_tags+1): -1]\n",
    "    return lb.classes_[best_tags]"
   ]
  },
  {
   "cell_type": "code",
   "execution_count": 190,
   "id": "e04330d0-ef16-4de1-bc93-f09b17f09b5c",
   "metadata": {},
   "outputs": [],
   "source": [
    "predicted_tags = get_best_tags(final_model, X_test_dtm, binarizer)"
   ]
  },
  {
   "cell_type": "code",
   "execution_count": 191,
   "id": "e1f7c313-bbc4-4b80-942d-0fd6777c8c17",
   "metadata": {},
   "outputs": [
    {
     "name": "stdout",
     "output_type": "stream",
     "text": [
      "Actual: ('17', 'Capricorn', 'Student', 'male')\n",
      "Predicted: ['female' 'male' 'Agriculture' '44'] \n",
      "\n",
      "Actual: ('16', 'Scorpio', 'Student', 'female')\n",
      "Predicted: ['male' 'female' 'Agriculture' '44'] \n",
      "\n",
      "Actual: ('16', 'Aquarius', 'Student', 'male')\n",
      "Predicted: ['male' 'indUnk' '44' '45'] \n",
      "\n",
      "Actual: ('23', 'Education', 'Gemini', 'female')\n",
      "Predicted: ['male' 'indUnk' '44' '45'] \n",
      "\n",
      "Actual: ('17', 'Scorpio', 'female', 'indUnk')\n",
      "Predicted: ['female' 'male' 'Agriculture' '44'] \n",
      "\n",
      "Actual: ('26', 'Agriculture', 'Pisces', 'male')\n",
      "Predicted: ['female' 'male' 'Agriculture' '44'] \n",
      "\n",
      "Actual: ('16', 'Capricorn', 'Student', 'male')\n",
      "Predicted: ['male' 'indUnk' '44' '45'] \n",
      "\n",
      "Actual: ('23', 'Cancer', 'female', 'indUnk')\n",
      "Predicted: ['female' 'male' 'Agriculture' '44'] \n",
      "\n",
      "Actual: ('25', 'Engineering', 'Gemini', 'male')\n",
      "Predicted: ['female' 'male' 'Agriculture' '44'] \n",
      "\n",
      "Actual: ('34', 'Aries', 'indUnk', 'male')\n",
      "Predicted: ['male' 'indUnk' '44' '45'] \n",
      "\n"
     ]
    }
   ],
   "source": [
    "for i in range(10):\n",
    "    print('Actual:', binarizer.inverse_transform(y_test_binary)[i])\n",
    "    print('Predicted:', predicted_tags[i], '\\n')"
   ]
  },
  {
   "cell_type": "markdown",
   "id": "3691bbf1-36e6-459a-88e4-902d941cb533",
   "metadata": {},
   "source": [
    "## Conclusion\n",
    "1. The dataset is huge and there are imbalanced records present based on the various combination related to topics, signs and age.\n",
    "2. On the whole dataset, the model is not performing well. Although the precision score is good but the prediction of the classes is incorrect.\n",
    "3. On the less dataset, we have seen the model is able to detect the classes more accurately.\n",
    "4. In the classification report, we can see now more classes are having precision score as 0 while with 20000 dataset, the precision score was better.\n",
    "5. Similarly for recall and f1 score have been dropped with compared to model trained with 20000 records."
   ]
  },
  {
   "cell_type": "markdown",
   "id": "794a0d20-3373-4b99-b644-0cb118b6bd1a",
   "metadata": {},
   "source": [
    "# Chatbot - Customer Support"
   ]
  },
  {
   "cell_type": "code",
   "execution_count": 1,
   "id": "287a23f4-ea9c-49cf-a232-e6c61b04d1d2",
   "metadata": {},
   "outputs": [],
   "source": [
    "import nltk\n",
    "import numpy as np\n",
    "\n",
    "import random\n",
    "\n",
    "from sklearn.metrics.pairwise import cosine_similarity\n",
    "from sklearn.feature_extraction.text import TfidfVectorizer\n",
    "\n",
    "from tensorflow.keras.models import Sequential\n",
    "from tensorflow.keras.layers import Dense, Dropout\n",
    "from tensorflow.keras.optimizers import SGD\n",
    "\n",
    "import json"
   ]
  },
  {
   "cell_type": "code",
   "execution_count": 2,
   "id": "e1890647-9640-4e9e-b8bb-bb4a524c093a",
   "metadata": {},
   "outputs": [],
   "source": [
    "import tensorflow as tf\n",
    "\n",
    "config = tf.compat.v1.ConfigProto()\n",
    "config.gpu_options.allow_growth = True"
   ]
  },
  {
   "cell_type": "code",
   "execution_count": 3,
   "id": "d2e8c485-9dbe-49c1-91c9-367a27d43a1a",
   "metadata": {},
   "outputs": [],
   "source": [
    "lemmatizer = nltk.stem.WordNetLemmatizer()\n",
    "\n",
    "words = []\n",
    "classes = []\n",
    "documents = []\n",
    "ignore_words = ['?', '!']\n",
    "\n",
    "data_file = open('GL Bot.json').read()\n",
    "intents = json.loads(data_file)"
   ]
  },
  {
   "cell_type": "code",
   "execution_count": 4,
   "id": "c52b96eb-efac-47c2-bddf-adedd27ea697",
   "metadata": {},
   "outputs": [],
   "source": [
    "for intent in intents['intents']:\n",
    "    for pattern in intent['patterns']:\n",
    "\n",
    "        #tokenize each word\n",
    "        w = nltk.word_tokenize(pattern)\n",
    "        words.extend(w)\n",
    "\n",
    "        #add documents in the corpus\n",
    "        documents.append((w, intent['tag']))\n",
    "\n",
    "        # add to our classes list\n",
    "        if intent['tag'] not in classes:\n",
    "            classes.append(intent['tag'])"
   ]
  },
  {
   "cell_type": "code",
   "execution_count": 5,
   "id": "5cbd32bc-d95f-4dca-a87d-dffdd185674b",
   "metadata": {},
   "outputs": [
    {
     "name": "stdout",
     "output_type": "stream",
     "text": [
      "128 documents\n",
      "8 classes ['Bot', 'Exit', 'Intro', 'NN', 'Olympus', 'Profane', 'SL', 'Ticket']\n",
      "158 unique lemmatized words ['a', 'able', 'access', 'activation', 'ada', 'adam', 'aifl', 'aiml', 'am', 'an', 'ann', 'anyone', 'are', 'artificial', 'backward', 'bad', 'bagging', 'batch', 'bayes', 'belong', 'best', 'blended', 'bloody', 'boosting', 'bot', 'buddy', 'classification', 'contact', 'create', 'cross', 'cya', 'day', 'deep', 'did', 'diffult', 'do', 'ensemble', 'epoch', 'explain', 'first', 'for', 'forest', 'forward', 'from', 'function', 'good', 'goodbye', 'gradient', 'great', 'hate', 'have', 'hell', 'hello', 'help', 'helped', 'hey', 'hi', 'hidden', 'hour', 'how', 'hyper', 'i', 'imputer', 'in', 'intelligence', 'is', 'jerk', 'joke', 'knn', 'later', 'layer', 'learner', 'learning', 'leaving', 'link', 'listen', 'logistic', 'lot', 'machine', 'me', 'ml', 'my', 'naive', 'name', 'nb', 'net', 'network', 'neural', 'no', 'not', 'of', 'olympus', 'olypus', 'on', 'online', 'operation', 'opertions', 'otimizer', 'parameter', 'piece', 'please', 'pm', 'problem', 'propagation', 'random', 'regression', 'relu', 'screw', 'see', 'sgd', 'shit', 'sigmoid', 'sl', 'smart', 'softmax', 'solution', 'solved', 'stupid', 'supervised', 'svm', 'talking', 'teach', 'techb=niques', 'technique', 'thank', 'thanks', 'the', 'there', 'think', 'ticket', 'time', 'to', 'ton', 'too', 'tool', 'unable', 'understand', 'up', 'use', 'useless', 'validation', 'very', 'visible', 'wasted', 'weight', 'what', 'whats', 'when', 'who', 'whom', 'window', 'with', 'work', 'working', 'ya', 'yo', 'you', 'your']\n"
     ]
    }
   ],
   "source": [
    "words = [lemmatizer.lemmatize(w.lower()) for w in words if w not in ignore_words]\n",
    "words = sorted(list(set(words)))\n",
    "\n",
    "classes = sorted(list(set(classes)))\n",
    "\n",
    "print (len(documents), \"documents\")\n",
    "print (len(classes), \"classes\", classes)\n",
    "print (len(words), \"unique lemmatized words\", words)"
   ]
  },
  {
   "cell_type": "markdown",
   "id": "41306df7-9b35-426d-a881-4ad10ac60ef9",
   "metadata": {},
   "source": [
    "### Training Data"
   ]
  },
  {
   "cell_type": "code",
   "execution_count": 6,
   "id": "d0db1478-d2b6-4453-84a2-1a6b52a2f34b",
   "metadata": {},
   "outputs": [
    {
     "name": "stdout",
     "output_type": "stream",
     "text": [
      "Training data created\n"
     ]
    },
    {
     "name": "stderr",
     "output_type": "stream",
     "text": [
      "<ipython-input-6-e5f7884a3a08>:19: VisibleDeprecationWarning: Creating an ndarray from ragged nested sequences (which is a list-or-tuple of lists-or-tuples-or ndarrays with different lengths or shapes) is deprecated. If you meant to do this, you must specify 'dtype=object' when creating the ndarray\n",
      "  training = np.array(training)\n"
     ]
    }
   ],
   "source": [
    "training = []\n",
    "output_empty = [0] * len(classes)\n",
    "\n",
    "for doc in documents:\n",
    "    bag = []\n",
    "    pattern_words = doc[0]\n",
    "\n",
    "    pattern_words = [lemmatizer.lemmatize(word.lower()) for word in pattern_words]\n",
    "    \n",
    "    for w in words:\n",
    "        bag.append(1) if w in pattern_words else bag.append(0)\n",
    "\n",
    "    output_row = list(output_empty)\n",
    "    output_row[classes.index(doc[1])] = 1\n",
    "\n",
    "    training.append([bag, output_row])\n",
    "\n",
    "random.shuffle(training)\n",
    "training = np.array(training)\n",
    "\n",
    "train_x = list(training[:,0])\n",
    "train_y = list(training[:,1])\n",
    "\n",
    "print(\"Training data created\")"
   ]
  },
  {
   "cell_type": "markdown",
   "id": "720d8247-1211-4d71-a277-4ffd041ac1f3",
   "metadata": {},
   "source": [
    "### Model Building"
   ]
  },
  {
   "cell_type": "code",
   "execution_count": 8,
   "id": "02f0255b-0b1f-4328-bf52-23018afbc60e",
   "metadata": {},
   "outputs": [
    {
     "name": "stdout",
     "output_type": "stream",
     "text": [
      "Epoch 1/50\n",
      "26/26 [==============================] - 0s 1ms/step - loss: 2.0585 - accuracy: 0.1875\n",
      "Epoch 2/50\n",
      "26/26 [==============================] - 0s 1ms/step - loss: 1.9154 - accuracy: 0.3125\n",
      "Epoch 3/50\n",
      "26/26 [==============================] - 0s 1ms/step - loss: 1.8629 - accuracy: 0.2969\n",
      "Epoch 4/50\n",
      "26/26 [==============================] - 0s 1ms/step - loss: 1.7666 - accuracy: 0.3359\n",
      "Epoch 5/50\n",
      "26/26 [==============================] - 0s 1ms/step - loss: 1.7025 - accuracy: 0.4297\n",
      "Epoch 6/50\n",
      "26/26 [==============================] - 0s 1ms/step - loss: 1.6209 - accuracy: 0.4141\n",
      "Epoch 7/50\n",
      "26/26 [==============================] - 0s 1ms/step - loss: 1.5191 - accuracy: 0.5000\n",
      "Epoch 8/50\n",
      "26/26 [==============================] - 0s 1ms/step - loss: 1.3784 - accuracy: 0.5312\n",
      "Epoch 9/50\n",
      "26/26 [==============================] - 0s 2ms/step - loss: 1.2014 - accuracy: 0.5859\n",
      "Epoch 10/50\n",
      "26/26 [==============================] - 0s 1ms/step - loss: 1.1443 - accuracy: 0.6016\n",
      "Epoch 11/50\n",
      "26/26 [==============================] - 0s 2ms/step - loss: 1.0216 - accuracy: 0.6953\n",
      "Epoch 12/50\n",
      "26/26 [==============================] - 0s 1ms/step - loss: 0.9344 - accuracy: 0.6953\n",
      "Epoch 13/50\n",
      "26/26 [==============================] - 0s 1ms/step - loss: 0.7922 - accuracy: 0.7344\n",
      "Epoch 14/50\n",
      "26/26 [==============================] - 0s 1ms/step - loss: 0.7100 - accuracy: 0.7266\n",
      "Epoch 15/50\n",
      "26/26 [==============================] - 0s 1ms/step - loss: 0.6425 - accuracy: 0.8125\n",
      "Epoch 16/50\n",
      "26/26 [==============================] - 0s 1ms/step - loss: 0.6105 - accuracy: 0.8125\n",
      "Epoch 17/50\n",
      "26/26 [==============================] - 0s 1ms/step - loss: 0.5442 - accuracy: 0.8203\n",
      "Epoch 18/50\n",
      "26/26 [==============================] - 0s 2ms/step - loss: 0.5818 - accuracy: 0.8438\n",
      "Epoch 19/50\n",
      "26/26 [==============================] - 0s 1ms/step - loss: 0.4110 - accuracy: 0.8984\n",
      "Epoch 20/50\n",
      "26/26 [==============================] - 0s 1ms/step - loss: 0.3791 - accuracy: 0.8906\n",
      "Epoch 21/50\n",
      "26/26 [==============================] - 0s 1ms/step - loss: 0.2748 - accuracy: 0.9297\n",
      "Epoch 22/50\n",
      "26/26 [==============================] - 0s 1ms/step - loss: 0.3171 - accuracy: 0.9062\n",
      "Epoch 23/50\n",
      "26/26 [==============================] - 0s 2ms/step - loss: 0.2731 - accuracy: 0.9375\n",
      "Epoch 24/50\n",
      "26/26 [==============================] - 0s 1ms/step - loss: 0.2290 - accuracy: 0.9375\n",
      "Epoch 25/50\n",
      "26/26 [==============================] - 0s 1ms/step - loss: 0.2455 - accuracy: 0.9219\n",
      "Epoch 26/50\n",
      "26/26 [==============================] - 0s 2ms/step - loss: 0.2783 - accuracy: 0.9062\n",
      "Epoch 27/50\n",
      "26/26 [==============================] - 0s 2ms/step - loss: 0.2412 - accuracy: 0.9453\n",
      "Epoch 28/50\n",
      "26/26 [==============================] - 0s 1ms/step - loss: 0.2114 - accuracy: 0.9297\n",
      "Epoch 29/50\n",
      "26/26 [==============================] - 0s 2ms/step - loss: 0.2120 - accuracy: 0.9531\n",
      "Epoch 30/50\n",
      "26/26 [==============================] - 0s 1ms/step - loss: 0.2296 - accuracy: 0.9297\n",
      "Epoch 31/50\n",
      "26/26 [==============================] - 0s 1ms/step - loss: 0.2375 - accuracy: 0.9297\n",
      "Epoch 32/50\n",
      "26/26 [==============================] - 0s 2ms/step - loss: 0.1058 - accuracy: 0.9844\n",
      "Epoch 33/50\n",
      "26/26 [==============================] - 0s 2ms/step - loss: 0.1620 - accuracy: 0.9375\n",
      "Epoch 34/50\n",
      "26/26 [==============================] - 0s 2ms/step - loss: 0.2031 - accuracy: 0.9453\n",
      "Epoch 35/50\n",
      "26/26 [==============================] - 0s 1ms/step - loss: 0.1829 - accuracy: 0.9531\n",
      "Epoch 36/50\n",
      "26/26 [==============================] - 0s 1ms/step - loss: 0.1564 - accuracy: 0.9609\n",
      "Epoch 37/50\n",
      "26/26 [==============================] - 0s 1ms/step - loss: 0.1433 - accuracy: 0.9766\n",
      "Epoch 38/50\n",
      "26/26 [==============================] - 0s 1ms/step - loss: 0.0750 - accuracy: 0.9688\n",
      "Epoch 39/50\n",
      "26/26 [==============================] - 0s 1ms/step - loss: 0.0859 - accuracy: 0.9766\n",
      "Epoch 40/50\n",
      "26/26 [==============================] - 0s 1ms/step - loss: 0.1420 - accuracy: 0.9453\n",
      "Epoch 41/50\n",
      "26/26 [==============================] - 0s 1ms/step - loss: 0.1483 - accuracy: 0.9766\n",
      "Epoch 42/50\n",
      "26/26 [==============================] - 0s 1ms/step - loss: 0.1342 - accuracy: 0.9609\n",
      "Epoch 43/50\n",
      "26/26 [==============================] - 0s 2ms/step - loss: 0.0712 - accuracy: 1.0000\n",
      "Epoch 44/50\n",
      "26/26 [==============================] - 0s 1ms/step - loss: 0.0916 - accuracy: 0.9766\n",
      "Epoch 45/50\n",
      "26/26 [==============================] - 0s 2ms/step - loss: 0.0731 - accuracy: 0.9844\n",
      "Epoch 46/50\n",
      "26/26 [==============================] - 0s 1ms/step - loss: 0.0839 - accuracy: 0.9766\n",
      "Epoch 47/50\n",
      "26/26 [==============================] - 0s 2ms/step - loss: 0.1039 - accuracy: 0.9609\n",
      "Epoch 48/50\n",
      "26/26 [==============================] - 0s 2ms/step - loss: 0.0718 - accuracy: 0.9688\n",
      "Epoch 49/50\n",
      "26/26 [==============================] - 0s 2ms/step - loss: 0.0670 - accuracy: 0.9922\n",
      "Epoch 50/50\n",
      "26/26 [==============================] - 0s 2ms/step - loss: 0.0605 - accuracy: 1.0000\n"
     ]
    }
   ],
   "source": [
    "model = Sequential()\n",
    "model.add(Dense(128, input_shape=(len(train_x[0]),), activation='relu'))\n",
    "model.add(Dropout(0.5))\n",
    "model.add(Dense(64, activation='relu'))\n",
    "model.add(Dropout(0.5))\n",
    "model.add(Dense(len(train_y[0]), activation='softmax'))\n",
    "\n",
    "sgd = SGD(learning_rate=0.01, decay=1e-6, momentum=0.9, nesterov=True)\n",
    "model.compile(loss='categorical_crossentropy', optimizer=sgd, metrics=['accuracy'])\n",
    "\n",
    "hist = model.fit(np.array(train_x), np.array(train_y), epochs=50, batch_size=5, verbose=1)\n",
    "model.save('chatbot_model.h5', hist)"
   ]
  },
  {
   "cell_type": "markdown",
   "id": "aadf3da4-1783-4ae4-b89b-09a68c9de2dc",
   "metadata": {},
   "source": [
    "### Creating Chatbot"
   ]
  },
  {
   "cell_type": "code",
   "execution_count": 9,
   "id": "11b6dad1-ab3b-4248-87ff-6f1070126f52",
   "metadata": {},
   "outputs": [],
   "source": [
    "def clean_up_sentence(sentence):\n",
    "    sentence_words = nltk.word_tokenize(sentence)\n",
    "    sentence_words = [lemmatizer.lemmatize(word.lower()) for word in sentence_words]\n",
    "    return sentence_words"
   ]
  },
  {
   "cell_type": "code",
   "execution_count": 10,
   "id": "4b0a3281-a24d-4bf0-9373-ea2f15c03bad",
   "metadata": {},
   "outputs": [],
   "source": [
    "def bow(sentence, words, show_details=True):\n",
    "    sentence_words = clean_up_sentence(sentence)\n",
    "    bag = [0]*len(words) \n",
    "\n",
    "    for s in sentence_words:\n",
    "        for i,w in enumerate(words):\n",
    "            if w == s: \n",
    "                bag[i] = 1\n",
    "\n",
    "                if show_details:\n",
    "                    print (\"found in bag: %s\" % w)\n",
    "    \n",
    "    return(np.array(bag))"
   ]
  },
  {
   "cell_type": "code",
   "execution_count": 11,
   "id": "04d70660-1bb0-4be9-a038-6a6056862021",
   "metadata": {},
   "outputs": [],
   "source": [
    "def predict_class(sentence, model):\n",
    "    p = bow(sentence, words,show_details=False)\n",
    "    res = model.predict(np.array([p]))[0]\n",
    "\n",
    "    ERROR_THRESHOLD = 0.25\n",
    "    results = [[i,r] for i,r in enumerate(res) if r>ERROR_THRESHOLD]\n",
    "    \n",
    "    results.sort(key=lambda x: x[1], reverse=True)\n",
    "    return_list = []\n",
    "    \n",
    "    for r in results:\n",
    "        return_list.append({\"intent\": classes[r[0]], \"probability\": str(r[1])})\n",
    "    \n",
    "    return return_list"
   ]
  },
  {
   "cell_type": "code",
   "execution_count": 12,
   "id": "05d4c638-ea8c-43f2-8ebe-59eb9151a19d",
   "metadata": {},
   "outputs": [],
   "source": [
    "def getResponse(ints, intents_json):\n",
    "    tag = ints[0]['intent']\n",
    "    list_of_intents = intents_json['intents']\n",
    "    for i in list_of_intents:\n",
    "        if(i['tag']== tag):\n",
    "            result = random.choice(i['responses'])\n",
    "            break\n",
    "    return result\n",
    "\n",
    "def chatbot_response(text):\n",
    "    ints = predict_class(text, model)\n",
    "    res = getResponse(ints, intents)\n",
    "    return res"
   ]
  },
  {
   "cell_type": "code",
   "execution_count": 13,
   "id": "e3d0223a-8c3e-442c-b18b-447a870ba31f",
   "metadata": {},
   "outputs": [
    {
     "name": "stdout",
     "output_type": "stream",
     "text": [
      "Start talking with the bot (type quit to stop)!\n"
     ]
    },
    {
     "name": "stdin",
     "output_type": "stream",
     "text": [
      "You:  hi\n"
     ]
    },
    {
     "name": "stdout",
     "output_type": "stream",
     "text": [
      "Chatbot:'Hello! how can i help you ?'\n"
     ]
    },
    {
     "name": "stdin",
     "output_type": "stream",
     "text": [
      "You:  olympus\n"
     ]
    },
    {
     "name": "stdout",
     "output_type": "stream",
     "text": [
      "Chatbot:'Link: Olympus wiki'\n"
     ]
    },
    {
     "name": "stdin",
     "output_type": "stream",
     "text": [
      "You:  ANN\n"
     ]
    },
    {
     "name": "stdout",
     "output_type": "stream",
     "text": [
      "Chatbot:'Link: Neural Nets wiki'\n"
     ]
    },
    {
     "name": "stdin",
     "output_type": "stream",
     "text": [
      "You:  Who are you?\n"
     ]
    },
    {
     "name": "stdout",
     "output_type": "stream",
     "text": [
      "Chatbot:'I am your virtual learning assistant'\n"
     ]
    },
    {
     "name": "stdin",
     "output_type": "stream",
     "text": [
      "You:  screw you\n"
     ]
    },
    {
     "name": "stdout",
     "output_type": "stream",
     "text": [
      "Chatbot:'Please use respectful words'\n"
     ]
    },
    {
     "name": "stdin",
     "output_type": "stream",
     "text": [
      "You:  bad solution\n"
     ]
    },
    {
     "name": "stdout",
     "output_type": "stream",
     "text": [
      "Chatbot:'Tarnsferring the request to your PM'\n"
     ]
    },
    {
     "name": "stdin",
     "output_type": "stream",
     "text": [
      "You:  thank you\n"
     ]
    },
    {
     "name": "stdout",
     "output_type": "stream",
     "text": [
      "Chatbot:'I hope I was able to assist you, Good Bye'\n"
     ]
    },
    {
     "name": "stdin",
     "output_type": "stream",
     "text": [
      "You:  quit\n"
     ]
    }
   ],
   "source": [
    "def chat():\n",
    "    print(\"Start talking with the bot (type quit to stop)!\")\n",
    "    while True:\n",
    "        inp = input(\"You: \")\n",
    "        if inp.lower() == \"quit\":\n",
    "            break\n",
    "\n",
    "        print('Chatbot:\\'{}\\''.format(chatbot_response(inp)))\n",
    "\n",
    "if __name__ == \"__main__\":\n",
    "    chat()"
   ]
  },
  {
   "cell_type": "code",
   "execution_count": null,
   "id": "757c4cf7-b4d3-45ac-85a3-9f09e83642cf",
   "metadata": {},
   "outputs": [],
   "source": []
  }
 ],
 "metadata": {
  "kernelspec": {
   "display_name": "Python 3",
   "language": "python",
   "name": "python3"
  },
  "language_info": {
   "codemirror_mode": {
    "name": "ipython",
    "version": 3
   },
   "file_extension": ".py",
   "mimetype": "text/x-python",
   "name": "python",
   "nbconvert_exporter": "python",
   "pygments_lexer": "ipython3",
   "version": "3.9.5"
  }
 },
 "nbformat": 4,
 "nbformat_minor": 5
}
